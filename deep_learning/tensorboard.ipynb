{
 "cells": [
  {
   "cell_type": "markdown",
   "metadata": {},
   "source": [
    "#### Copy our example of linear regression: [link](https://github.com/lhlich/ml_coding/blob/master/classic_ml/linear_regression_gradient_descent.ipynb)"
   ]
  },
  {
   "cell_type": "code",
   "execution_count": 1,
   "metadata": {},
   "outputs": [
    {
     "data": {
      "image/png": "[encoded data removed]",
      "text/plain": [
       "<Figure size 640x480 with 1 Axes>"
      ]
     },
     "metadata": {},
     "output_type": "display_data"
    }
   ],
   "source": [
    "import numpy as np\n",
    "import matplotlib.pyplot as plt\n",
    "\n",
    "np.random.seed(42)\n",
    "m = 100\n",
    "X = 2 * np.random.rand(m, 1)\n",
    "\n",
    "# we'll never know the ground truth of nosie_sigma, b1 or b0\n",
    "noise_sigma = 0.5\n",
    "w = 3\n",
    "b = 4\n",
    "\n",
    "y = b + w * X + noise_sigma * np.random.randn(m, 1)\n",
    "\n",
    "plt.scatter(X, y)\n",
    "plt.xlabel('x')\n",
    "plt.ylabel('y')\n",
    "plt.show()"
   ]
  },
  {
   "cell_type": "code",
   "execution_count": 2,
   "metadata": {},
   "outputs": [
    {
     "name": "stdout",
     "output_type": "stream",
     "text": [
      "MSE loss from an oracle: 0.2062766949769846\n"
     ]
    }
   ],
   "source": [
    "def MSE(y_pred, y_truth) -> float:\n",
    "    return np.mean((y_pred - y_truth) ** 2)\n",
    "\n",
    "y_pred_ideal = b + w * X\n",
    "print(f'MSE loss from an oracle: {MSE(y_pred_ideal, y)}')\n",
    "\n",
    "from typing import List\n",
    "from torch.utils.tensorboard import SummaryWriter\n",
    "run = 'tb_demo/lr3'\n",
    "writer = SummaryWriter(run)\n",
    "writer.add_text('description', 'TB example for linear regression')\n",
    "\n",
    "max_epochs = 100\n",
    "learning_rate = 0.05\n",
    "\n",
    "params = np.random.randn(2, 1) # [w, b]\n",
    "params_history = [params.copy()]\n",
    "for i in range(1, max_epochs+1):\n",
    "    w_gd, b_gd = params\n",
    "    pred = X * w_gd + b_gd\n",
    "\n",
    "    dLdw = (-2/m) * np.sum(X*(y-pred))\n",
    "    dLdb = (-2/m) * np.sum(y-pred)\n",
    "    gradient = np.array([dLdw, dLdb]).reshape(2, 1)\n",
    "\n",
    "    writer.add_scalar(tag='MSE_loss', scalar_value=MSE(y, pred), global_step=i)\n",
    "    writer.add_scalars(main_tag='parameters', tag_scalar_dict={'w': w_gd, 'b': b_gd}, global_step=i)\n",
    "    writer.add_scalars(main_tag='gradients', tag_scalar_dict={'w': dLdw, 'b': dLdb}, global_step=i)\n",
    "\n",
    "    params -= learning_rate*gradient\n",
    "    params_history.append(params.copy())\n",
    "\n",
    "writer.close()\n",
    "\n",
    "# tensorboard --logdir .\\deep_learning\\tb_demo\\lr\\ to start a session and view it"
   ]
  },
  {
   "cell_type": "code",
   "execution_count": 3,
   "metadata": {},
   "outputs": [
    {
     "name": "stdout",
     "output_type": "stream",
     "text": [
      "Known TensorBoard instances:\n",
      "  - port 6009: logdir tb_demo/lr (started 0:08:53 ago; pid 15932)\n",
      "  - port 6008: logdir run (started 0:09:44 ago; pid 23508)\n",
      "  - port 6007: logdir logs (started 0:10:03 ago; pid 38136)\n",
      "  - port 6007: logdir tb_demo/lr2 (started 0:06:46 ago; pid 44104)\n"
     ]
    }
   ],
   "source": [
    "from tensorboard import notebook\n",
    "%load_ext tensorboard\n",
    "notebook.list()"
   ]
  },
  {
   "cell_type": "code",
   "execution_count": 4,
   "metadata": {},
   "outputs": [
    {
     "data": {
      "text/html": [
       "\n",
       "      <iframe id=\"tensorboard-frame-841a1136ce2df207\" width=\"100%\" height=\"800\" frameborder=\"0\">\n",
       "      </iframe>\n",
       "      <script>\n",
       "        (function() {\n",
       "          const frame = document.getElementById(\"tensorboard-frame-841a1136ce2df207\");\n",
       "          const url = new URL(\"/\", window.location);\n",
       "          const port = 6007;\n",
       "          if (port) {\n",
       "            url.port = port;\n",
       "          }\n",
       "          frame.src = url;\n",
       "        })();\n",
       "      </script>\n",
       "    "
      ],
      "text/plain": [
       "<IPython.core.display.HTML object>"
      ]
     },
     "metadata": {},
     "output_type": "display_data"
    },
    {
     "name": "stdout",
     "output_type": "stream",
     "text": [
      "Known TensorBoard instances:\n",
      "  - port 6007: logdir tb_demo/lr3 (started 0:00:00 ago; pid 14396)\n",
      "  - port 6009: logdir tb_demo/lr (started 0:09:15 ago; pid 15932)\n",
      "  - port 6008: logdir run (started 0:10:06 ago; pid 23508)\n",
      "  - port 6007: logdir logs (started 0:10:25 ago; pid 38136)\n",
      "  - port 6007: logdir tb_demo/lr2 (started 0:07:08 ago; pid 44104)\n"
     ]
    }
   ],
   "source": [
    "%tensorboard --logdir tb_demo/lr3\n",
    "notebook.list()"
   ]
  },
  {
   "cell_type": "code",
   "execution_count": 5,
   "metadata": {},
   "outputs": [
    {
     "name": "stdout",
     "output_type": "stream",
     "text": [
      "Selecting TensorBoard with logdir tb_demo/lr3 (started 0:00:52 ago; port 6007, pid 14396).\n"
     ]
    },
    {
     "data": {
      "text/html": [
       "\n",
       "      <iframe id=\"tensorboard-frame-1c9b8fe77c6b0297\" width=\"100%\" height=\"1000\" frameborder=\"0\">\n",
       "      </iframe>\n",
       "      <script>\n",
       "        (function() {\n",
       "          const frame = document.getElementById(\"tensorboard-frame-1c9b8fe77c6b0297\");\n",
       "          const url = new URL(\"http://localhost\");\n",
       "          const port = 6007;\n",
       "          if (port) {\n",
       "            url.port = port;\n",
       "          }\n",
       "          frame.src = url;\n",
       "        })();\n",
       "      </script>\n",
       "    "
      ],
      "text/plain": [
       "<IPython.core.display.HTML object>"
      ]
     },
     "metadata": {},
     "output_type": "display_data"
    }
   ],
   "source": [
    "notebook.display(port=6007, height=1000)"
   ]
  }
 ],
 "metadata": {
  "kernelspec": {
   "display_name": "myenv",
   "language": "python",
   "name": "python3"
  },
  "language_info": {
   "codemirror_mode": {
    "name": "ipython",
    "version": 3
   },
   "file_extension": ".py",
   "mimetype": "text/x-python",
   "name": "python",
   "nbconvert_exporter": "python",
   "pygments_lexer": "ipython3",
   "version": "3.12.5"
  }
 },
 "nbformat": 4,
 "nbformat_minor": 2
}
