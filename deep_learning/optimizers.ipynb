{
 "cells": [
  {
   "cell_type": "markdown",
   "metadata": {},
   "source": [
    "Examples of various optimizers"
   ]
  },
  {
   "cell_type": "code",
   "execution_count": 174,
   "metadata": {},
   "outputs": [
    {
     "name": "stdout",
     "output_type": "stream",
     "text": [
      "weights after my sgd : tensor([0.6387, 0.2775, 0.6478, 0.3678, 0.7727], grad_fn=<SqueezeBackward0>)\n",
      "weights after built in sgd : tensor([0.6387, 0.2775, 0.6478, 0.3678, 0.7727], grad_fn=<SqueezeBackward0>)\n"
     ]
    }
   ],
   "source": [
    "import torch\n",
    "from torch.optim import SGD\n",
    "\n",
    "m = 10\n",
    "n = 5\n",
    "lr = 0.01\n",
    "\n",
    "X = torch.rand(m, n)\n",
    "b = torch.rand(n, 1)\n",
    "b.requires_grad = True\n",
    "y = torch.rand(m, 1)\n",
    "\n",
    "def loss(X, b, y):\n",
    "    return torch.mean((y - X @ b) ** 2)\n",
    "\n",
    "def gen_data():\n",
    "    return X.detach().clone(), b.detach().clone(), y.detach().clone()\n",
    "\n",
    "\n",
    "L = loss(X, b, y)\n",
    "L.backward()\n",
    "print(f'weights after my sgd : {(b - b.grad * lr).squeeze()}')\n",
    "\n",
    "optimizer = SGD([b], lr=lr)\n",
    "optimizer.zero_grad()\n",
    "b.grad = None\n",
    "L = loss(X, b, y)\n",
    "L.backward()\n",
    "optimizer.step()\n",
    "\n",
    "print(f'weights after built in sgd : {b.squeeze()}')"
   ]
  },
  {
   "cell_type": "markdown",
   "metadata": {},
   "source": [
    "Example for Adam optimizer"
   ]
  },
  {
   "cell_type": "code",
   "execution_count": 175,
   "metadata": {},
   "outputs": [
    {
     "name": "stdout",
     "output_type": "stream",
     "text": [
      "--- built in adam ---\n",
      "After step 1, param is tensor([0.6287, 0.2675, 0.6378, 0.3578, 0.7627], grad_fn=<SqueezeBackward0>)\n",
      "After step 2, param is tensor([0.6187, 0.2576, 0.6278, 0.3478, 0.7527], grad_fn=<SqueezeBackward0>)\n",
      "After step 3, param is tensor([0.6087, 0.2476, 0.6178, 0.3378, 0.7427], grad_fn=<SqueezeBackward0>)\n",
      "After step 4, param is tensor([0.5988, 0.2377, 0.6078, 0.3279, 0.7328], grad_fn=<SqueezeBackward0>)\n",
      "After step 5, param is tensor([0.5888, 0.2278, 0.5979, 0.3179, 0.7228], grad_fn=<SqueezeBackward0>)\n",
      "--- my adam ---\n",
      "After step 1, param is tensor([0.6287, 0.2675, 0.6378, 0.3578, 0.7627], grad_fn=<SqueezeBackward0>)\n",
      "After step 2, param is tensor([0.6187, 0.2576, 0.6278, 0.3478, 0.7527], grad_fn=<SqueezeBackward0>)\n",
      "After step 3, param is tensor([0.6087, 0.2476, 0.6178, 0.3378, 0.7427], grad_fn=<SqueezeBackward0>)\n",
      "After step 4, param is tensor([0.5988, 0.2377, 0.6078, 0.3279, 0.7328], grad_fn=<SqueezeBackward0>)\n",
      "After step 5, param is tensor([0.5888, 0.2278, 0.5979, 0.3179, 0.7228], grad_fn=<SqueezeBackward0>)\n"
     ]
    }
   ],
   "source": [
    "from torch.optim import Adam\n",
    "\n",
    "iter = 5\n",
    "betas=(0.9, 0.999)\n",
    "eps=1e-08\n",
    "\n",
    "\n",
    "def run_adam():\n",
    "    X, b, y = gen_data()\n",
    "    b.requires_grad = True\n",
    "    optimizer = Adam([b], lr=lr, betas=betas, eps=eps)\n",
    "    print('--- built in adam ---')\n",
    "    for i in range(1, iter+1):\n",
    "        optimizer.zero_grad()\n",
    "        L = loss(X, b, y)\n",
    "        L.backward()\n",
    "        optimizer.step()\n",
    "        print(f'After step {i}, param is {b.squeeze()}')\n",
    "        \n",
    "\n",
    "def my_adam():\n",
    "    X, b, y = gen_data()\n",
    "    b.requires_grad = True\n",
    "    print('--- my adam ---')\n",
    "    m = torch.zeros_like(b)\n",
    "    v = torch.zeros_like(b)\n",
    "    for i in range(1, iter+1):\n",
    "        if b.grad is not None:\n",
    "            b.grad.zero_()\n",
    "\n",
    "        L = loss(X, b, y)\n",
    "        L.backward()\n",
    "\n",
    "        m = (1- betas[0]) * b.grad  + betas[0] * m\n",
    "        v = (1- betas[1]) * b.grad ** 2 + betas[1] * v\n",
    "        m_hat = m / (1-betas[0] ** i)\n",
    "        v_hat = v / (1-betas[1] ** i)\n",
    "\n",
    "        with torch.no_grad():\n",
    "            b -= lr * m_hat / (torch.sqrt(v_hat)+ eps)\n",
    "        \n",
    "        print(f'After step {i}, param is {b.squeeze()}') \n",
    "\n",
    "run_adam()\n",
    "my_adam()\n",
    "\n",
    "\n"
   ]
  }
 ],
 "metadata": {
  "kernelspec": {
   "display_name": "Python 3",
   "language": "python",
   "name": "python3"
  },
  "language_info": {
   "codemirror_mode": {
    "name": "ipython",
    "version": 3
   },
   "file_extension": ".py",
   "mimetype": "text/x-python",
   "name": "python",
   "nbconvert_exporter": "python",
   "pygments_lexer": "ipython3",
   "version": "3.12.5"
  }
 },
 "nbformat": 4,
 "nbformat_minor": 2
}
