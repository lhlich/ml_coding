{
 "cells": [
  {
   "cell_type": "markdown",
   "metadata": {},
   "source": [
    "## paper: [Contrastive Decoding: Open-ended Text Generation as Optimization](https://arxiv.org/abs/2210.15097)\n"
   ]
  },
  {
   "cell_type": "code",
   "execution_count": null,
   "metadata": {},
   "outputs": [],
   "source": [
    "import torch\n",
    "import transformers\n",
    "\n",
    "tokenizer = transformers.AutoTokenizer.from_pretrained('gpt2')\n",
    "amateur_lm = transformers.AutoModelForCausalLM.from_pretrained('gpt2')\n",
    "expert_lm = transformers.AutoModelForCausalLM.from_pretrained('gpt2-medium')\n",
    "\n",
    "encoding = tokenizer(\"Barack Obama was born in Honolulu, Hawaii. He was born in\", return_tensors='pt')\n",
    "logits = expert_lm(**encoding).logits"
   ]
  }
 ],
 "metadata": {
  "language_info": {
   "name": "python"
  }
 },
 "nbformat": 4,
 "nbformat_minor": 2
}
