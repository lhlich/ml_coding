{
 "cells": [
  {
   "cell_type": "markdown",
   "metadata": {},
   "source": [
    "## paper: [Contrastive Decoding: Open-ended Text Generation as Optimization](https://arxiv.org/abs/2210.15097)\n"
   ]
  },
  {
   "cell_type": "code",
   "execution_count": 2,
   "metadata": {},
   "outputs": [
    {
     "name": "stderr",
     "output_type": "stream",
     "text": [
      "c:\\Users\\beati\\OneDrive\\Documents\\github_repos\\ml_coding\\myenv\\Lib\\site-packages\\tqdm\\auto.py:21: TqdmWarning: IProgress not found. Please update jupyter and ipywidgets. See https://ipywidgets.readthedocs.io/en/stable/user_install.html\n",
      "  from .autonotebook import tqdm as notebook_tqdm\n",
      "c:\\Users\\beati\\OneDrive\\Documents\\github_repos\\ml_coding\\myenv\\Lib\\site-packages\\transformers\\tokenization_utils_base.py:1601: FutureWarning: `clean_up_tokenization_spaces` was not set. It will be set to `True` by default. This behavior will be depracted in transformers v4.45, and will be then set to `False` by default. For more details check this issue: https://github.com/huggingface/transformers/issues/31884\n",
      "  warnings.warn(\n"
     ]
    }
   ],
   "source": [
    "import torch\n",
    "import transformers\n",
    "\n",
    "device = 'cuda' if torch.cuda.is_available() else 'cpu'\n",
    "\n",
    "tokenizer = transformers.AutoTokenizer.from_pretrained('gpt2')\n",
    "amateur_lm = transformers.AutoModelForCausalLM.from_pretrained('gpt2').to(device)\n",
    "expert_lm = transformers.AutoModelForCausalLM.from_pretrained('gpt2-medium').to(device)"
   ]
  },
  {
   "cell_type": "code",
   "execution_count": 4,
   "metadata": {},
   "outputs": [
    {
     "name": "stderr",
     "output_type": "stream",
     "text": [
      "Setting `pad_token_id` to `eos_token_id`:50256 for open-end generation.\n",
      "c:\\Users\\beati\\OneDrive\\Documents\\github_repos\\ml_coding\\myenv\\Lib\\site-packages\\transformers\\models\\gpt2\\modeling_gpt2.py:544: UserWarning: 1Torch was not compiled with flash attention. (Triggered internally at C:\\actions-runner\\_work\\pytorch\\pytorch\\builder\\windows\\pytorch\\aten\\src\\ATen\\native\\transformers\\cuda\\sdp_utils.cpp:555.)\n",
      "  attn_output = torch.nn.functional.scaled_dot_product_attention(\n"
     ]
    },
    {
     "name": "stdout",
     "output_type": "stream",
     "text": [
      "built-in generate for prompt: Barack Obama was born in Honolulu, Hawaii. He was born in\n",
      "    responses: Barack Obama was born in Honolulu, Hawaii. He was born in Chicago\n"
     ]
    }
   ],
   "source": [
    "prompt = \"Barack Obama was born in Honolulu, Hawaii. He was born in\"\n",
    "\n",
    "def generate_builtin(model, prompt, max_len=100, temperature = 0.8):\n",
    "    model_inputs = tokenizer(prompt, return_tensors=\"pt\").to(device)\n",
    "\n",
    "    gen_tokens = model.generate(\n",
    "        **model_inputs,\n",
    "        do_sample=True,\n",
    "        temperature=temperature,\n",
    "        max_length=max_len,\n",
    "    )\n",
    "    return tokenizer.batch_decode(gen_tokens)[0]\n",
    "\n",
    "print(\n",
    "    f\"\"\"built-in generate for prompt: {prompt}\n",
    "    responses: {generate_builtin(expert_lm, prompt, max_len=15)}\"\"\"\n",
    ")"
   ]
  },
  {
   "cell_type": "code",
   "execution_count": 52,
   "metadata": {},
   "outputs": [
    {
     "name": "stdout",
     "output_type": "stream",
     "text": [
      "\n",
      "    prompt: Barack Obama was born in Honolulu, Hawaii. He was born in\n",
      "    expert lm response: Barack Obama was born in Honolulu, Hawaii. He was born in the United States on December 20, 1961.\n",
      "\n",
      "    amature lm response: Barack Obama was born in Honolulu, Hawaii. He was born in Honolulu, Hawaii. (AP Photo/Mark Humph\n",
      "    \n"
     ]
    }
   ],
   "source": [
    "def my_generate(model, prompt, max_len=100, temperature=0.8):\n",
    "    model_inputs = tokenizer(prompt, return_tensors=\"pt\").to(device)\n",
    "\n",
    "    # Start the generation with the initial inputs\n",
    "    output_tokens = model_inputs[\"input_ids\"]\n",
    "    attention_mask = model_inputs[\"attention_mask\"].to(device)\n",
    "\n",
    "    past_key_values = None\n",
    "\n",
    "    for i in range(max_len):\n",
    "        if past_key_values is None:\n",
    "            # For the first step, use the full input\n",
    "            input = model_inputs\n",
    "        else:\n",
    "            # For subsequent steps, use the last generated token and past key values\n",
    "            input = {\n",
    "                \"input_ids\": output_tokens[:, -1].unsqueeze(0),  # Use only the last token\n",
    "                \"attention_mask\": attention_mask,\n",
    "                \"past_key_values\": past_key_values,\n",
    "            }\n",
    "\n",
    "        # Forward pass through the model\n",
    "        resp = model(**input)\n",
    "        logits = resp.logits[:, -1, :]  # Get the logits for the last token\n",
    "        past_key_values = resp.past_key_values  # Update past key values\n",
    "\n",
    "        # Sample next token\n",
    "        prob = torch.softmax(logits / temperature, dim=-1)\n",
    "        next_token = torch.multinomial(prob, num_samples=1).to(device)\n",
    "\n",
    "        # Append the next token to the output\n",
    "        output_tokens = torch.cat([output_tokens, next_token], dim=1)\n",
    "\n",
    "        # Update the attention mask (add 1 for the new token)\n",
    "        attention_mask = torch.cat([attention_mask, torch.ones((1, 1)).to(device)], dim=1)\n",
    "\n",
    "    # Decode and return the generated sequence\n",
    "    return tokenizer.decode(output_tokens.squeeze(), skip_special_tokens=True)\n",
    "\n",
    "\n",
    "temp = 0.3\n",
    "print(\n",
    "    f\"\"\"\n",
    "    prompt: {prompt}\n",
    "    expert lm response: {my_generate(expert_lm, prompt, max_len=10, temperature=temp)}\n",
    "    amature lm response: {my_generate(amateur_lm, prompt, max_len=10, temperature=temp)}\n",
    "    \"\"\"\n",
    ")\n"
   ]
  },
  {
   "cell_type": "code",
   "execution_count": 62,
   "metadata": {},
   "outputs": [
    {
     "name": "stdout",
     "output_type": "stream",
     "text": [
      "\n",
      "    prompt: Barack Obama was born in Honolulu, Hawaii. He was born in\n",
      "    expert lm response: Barack Obama was born in Honolulu, Hawaii. He was born in the United States on January 20, 1961.\n",
      "\n",
      "    amature lm response: Barack Obama was born in Honolulu, Hawaii. He was born in Honolulu, Hawaii, on July 1, 1964.\n",
      "    contrastive decoding response(no constraint): Barack Obama was born in Honolulu, Hawaii. He was born in teasponestplace ACTIONSfectureanchesterchester CT────ItemTracker\n",
      "    \n"
     ]
    }
   ],
   "source": [
    "def my_generate_cd_score(models, prompt, max_len=100, temperature=0.8):\n",
    "    model_inputs = tokenizer(prompt, return_tensors=\"pt\").to(device)\n",
    "\n",
    "    # Start the generation with the initial inputs\n",
    "    output_tokens = model_inputs[\"input_ids\"]\n",
    "    attention_mask = model_inputs[\"attention_mask\"].to(device)\n",
    "\n",
    "    past_key_values = [None] * 2\n",
    "    logits = [None] * 2\n",
    "\n",
    "    for _ in range(max_len):\n",
    "        for i, model in enumerate(models): # exp first, ama snd       \n",
    "            if past_key_values[i] is None:\n",
    "                # For the first step, use the full input\n",
    "                input = model_inputs\n",
    "            else:\n",
    "                # For subsequent steps, use the last generated token and past key values\n",
    "                input = {\n",
    "                    \"input_ids\": output_tokens[:, -1].unsqueeze(0),  # Use only the last token\n",
    "                    \"attention_mask\": attention_mask,\n",
    "                    \"past_key_values\": past_key_values[i],\n",
    "                }\n",
    "\n",
    "            # Forward pass through the model\n",
    "            resp = model(**input)\n",
    "            logits[i] = resp.logits[:, -1, :]  # Get the logits for the last token, shape: [batch, 1, n_token]\n",
    "            past_key_values[i] = resp.past_key_values  # Update past key values\n",
    "\n",
    "        logits_tensor = torch.cat(logits, dim=0).squeeze() # shape: [2, n_token]\n",
    "        # Sample next token\n",
    "        logprob = torch.log(torch.softmax(logits_tensor / temperature, dim=-1))\n",
    "        cd_scores = logprob[0, :] - logprob[1, :]\n",
    "        next_token = torch.argmax(cd_scores)\n",
    "\n",
    "        # Append the next token to the output\n",
    "        output_tokens = torch.cat([output_tokens, next_token.view([1, 1])], dim=1)\n",
    "\n",
    "        # Update the attention mask (add 1 for the new token)\n",
    "        attention_mask = torch.cat([attention_mask, torch.ones((1, 1)).to(device)], dim=1)\n",
    "\n",
    "    # Decode and return the generated sequence\n",
    "    return tokenizer.decode(output_tokens.squeeze(), skip_special_tokens=True)\n",
    "\n",
    "\n",
    "print(\n",
    "    f\"\"\"\n",
    "    prompt: {prompt}\n",
    "    expert lm response: {my_generate(expert_lm, prompt, max_len=10, temperature=temp)}\n",
    "    amature lm response: {my_generate(amateur_lm, prompt, max_len=10, temperature=temp)}\n",
    "    contrastive decoding response(no constraint): {my_generate_cd_score([expert_lm, amateur_lm], prompt, max_len=10, temperature=temp)}\n",
    "    \"\"\"\n",
    ")\n"
   ]
  },
  {
   "cell_type": "code",
   "execution_count": 83,
   "metadata": {},
   "outputs": [
    {
     "name": "stdout",
     "output_type": "stream",
     "text": [
      "\n",
      "    prompt: Barack Obama was born in Honolulu, Hawaii. He was born in\n",
      "    expert lm response: Barack Obama was born in Honolulu, Hawaii. He was born in February, 1961. We're not sure when he\n",
      "    amature lm response: Barack Obama was born in Honolulu, Hawaii. He was born in America for the first time at the adoption office for\n",
      "    contrastive decoding response(no constraint): Barack Obama was born in Honolulu, Hawaii. He was born in teasponestplace ACTIONSfectureanchesterchester CT────ItemTracker\n",
      "    contrastive decoding response(full): Barack Obama was born in Honolulu, Hawaii. He was born in the United States on January 20, 1961.\n",
      "\n",
      "    \n"
     ]
    }
   ],
   "source": [
    "def my_generate_cd_full(models, prompt, max_len=100, temperatures=[1, 0,5], alpha=0.9):\n",
    "    model_inputs = tokenizer(prompt, return_tensors=\"pt\").to(device)\n",
    "\n",
    "    # Start the generation with the initial inputs\n",
    "    output_tokens = model_inputs[\"input_ids\"]\n",
    "    attention_mask = model_inputs[\"attention_mask\"].to(device)\n",
    "\n",
    "    past_key_values = [None] * 2\n",
    "    logits = [None] * 2\n",
    "    probs = [None] * 2\n",
    "    logprobs = [None] * 2\n",
    "\n",
    "    for _ in range(max_len):\n",
    "        for i, model in enumerate(models): # exp first, ama snd       \n",
    "            if past_key_values[i] is None:\n",
    "                # For the first step, use the full input\n",
    "                input = model_inputs\n",
    "            else:\n",
    "                # For subsequent steps, use the last generated token and past key values\n",
    "                input = {\n",
    "                    \"input_ids\": output_tokens[:, -1].unsqueeze(0),  # Use only the last token\n",
    "                    \"attention_mask\": attention_mask,\n",
    "                    \"past_key_values\": past_key_values[i],\n",
    "                }\n",
    "\n",
    "            # Forward pass through the model\n",
    "            resp = model(**input)\n",
    "            logits[i] = resp.logits[:, -1, :]  # Get the logits for the last token, shape: [batch, 1, n_token]\n",
    "            past_key_values[i] = resp.past_key_values  # Update past key values\n",
    "\n",
    "            probs[i] = torch.softmax(logits[i] / temperatures[i], dim=-1)\n",
    "            logprobs[i] = torch.log(probs[i])\n",
    "\n",
    "        cd_scores = logprobs[0] - logprobs[1]\n",
    "\n",
    "        mask = probs[0] < alpha * torch.max(probs[0])\n",
    "        cd_scores[mask] = float('-inf')\n",
    "\n",
    "        next_token = torch.argmax(cd_scores)\n",
    "\n",
    "        # Append the next token to the output\n",
    "        output_tokens = torch.cat([output_tokens, next_token.view([1, 1])], dim=1)\n",
    "\n",
    "        # Update the attention mask (add 1 for the new token)\n",
    "        attention_mask = torch.cat([attention_mask, torch.ones((1, 1)).to(device)], dim=1)\n",
    "\n",
    "    # Decode and return the generated sequence\n",
    "    return tokenizer.decode(output_tokens.squeeze(), skip_special_tokens=True)\n",
    "\n",
    "alpha = 0.7\n",
    "temp = 1\n",
    "print(\n",
    "    f\"\"\"\n",
    "    prompt: {prompt}\n",
    "    expert lm response: {my_generate(expert_lm, prompt, max_len=10, temperature=temp)}\n",
    "    amature lm response: {my_generate(amateur_lm, prompt, max_len=10, temperature=temp)}\n",
    "    contrastive decoding response(no constraint): {my_generate_cd_score([expert_lm, amateur_lm], prompt, max_len=10)}\n",
    "    contrastive decoding response(full): {my_generate_cd_full([expert_lm, amateur_lm], prompt, max_len=10, alpha=alpha)}\n",
    "    \"\"\"\n",
    ")\n"
   ]
  }
 ],
 "metadata": {
  "kernelspec": {
   "display_name": "myenv",
   "language": "python",
   "name": "python3"
  },
  "language_info": {
   "codemirror_mode": {
    "name": "ipython",
    "version": 3
   },
   "file_extension": ".py",
   "mimetype": "text/x-python",
   "name": "python",
   "nbconvert_exporter": "python",
   "pygments_lexer": "ipython3",
   "version": "3.12.5"
  }
 },
 "nbformat": 4,
 "nbformat_minor": 2
}
