{
 "cells": [
  {
   "cell_type": "markdown",
   "metadata": {},
   "source": [
    "Install dependency at first"
   ]
  },
  {
   "cell_type": "code",
   "execution_count": 8,
   "metadata": {},
   "outputs": [
    {
     "name": "stdout",
     "output_type": "stream",
     "text": [
      "Requirement already satisfied: qdrant-client in c:\\users\\beati\\onedrive\\documents\\github_repos\\ml_coding\\myenv\\lib\\site-packages (1.12.0)\n",
      "Requirement already satisfied: grpcio>=1.41.0 in c:\\users\\beati\\onedrive\\documents\\github_repos\\ml_coding\\myenv\\lib\\site-packages (from qdrant-client) (1.66.2)\n",
      "Requirement already satisfied: grpcio-tools>=1.41.0 in c:\\users\\beati\\onedrive\\documents\\github_repos\\ml_coding\\myenv\\lib\\site-packages (from qdrant-client) (1.66.2)\n",
      "Requirement already satisfied: httpx>=0.20.0 in c:\\users\\beati\\onedrive\\documents\\github_repos\\ml_coding\\myenv\\lib\\site-packages (from httpx[http2]>=0.20.0->qdrant-client) (0.27.2)\n",
      "Requirement already satisfied: numpy>=1.26 in c:\\users\\beati\\onedrive\\documents\\github_repos\\ml_coding\\myenv\\lib\\site-packages (from qdrant-client) (1.26.3)\n",
      "Requirement already satisfied: portalocker<3.0.0,>=2.7.0 in c:\\users\\beati\\onedrive\\documents\\github_repos\\ml_coding\\myenv\\lib\\site-packages (from qdrant-client) (2.10.1)\n",
      "Requirement already satisfied: pydantic>=1.10.8 in c:\\users\\beati\\onedrive\\documents\\github_repos\\ml_coding\\myenv\\lib\\site-packages (from qdrant-client) (2.9.2)\n",
      "Requirement already satisfied: urllib3<3,>=1.26.14 in c:\\users\\beati\\onedrive\\documents\\github_repos\\ml_coding\\myenv\\lib\\site-packages (from qdrant-client) (2.2.3)\n",
      "Requirement already satisfied: protobuf<6.0dev,>=5.26.1 in c:\\users\\beati\\onedrive\\documents\\github_repos\\ml_coding\\myenv\\lib\\site-packages (from grpcio-tools>=1.41.0->qdrant-client) (5.28.2)\n",
      "Requirement already satisfied: setuptools in c:\\users\\beati\\onedrive\\documents\\github_repos\\ml_coding\\myenv\\lib\\site-packages (from grpcio-tools>=1.41.0->qdrant-client) (70.0.0)\n",
      "Requirement already satisfied: anyio in c:\\users\\beati\\onedrive\\documents\\github_repos\\ml_coding\\myenv\\lib\\site-packages (from httpx>=0.20.0->httpx[http2]>=0.20.0->qdrant-client) (4.4.0)\n",
      "Requirement already satisfied: certifi in c:\\users\\beati\\onedrive\\documents\\github_repos\\ml_coding\\myenv\\lib\\site-packages (from httpx>=0.20.0->httpx[http2]>=0.20.0->qdrant-client) (2024.8.30)\n",
      "Requirement already satisfied: httpcore==1.* in c:\\users\\beati\\onedrive\\documents\\github_repos\\ml_coding\\myenv\\lib\\site-packages (from httpx>=0.20.0->httpx[http2]>=0.20.0->qdrant-client) (1.0.5)\n",
      "Requirement already satisfied: idna in c:\\users\\beati\\onedrive\\documents\\github_repos\\ml_coding\\myenv\\lib\\site-packages (from httpx>=0.20.0->httpx[http2]>=0.20.0->qdrant-client) (3.10)\n",
      "Requirement already satisfied: sniffio in c:\\users\\beati\\onedrive\\documents\\github_repos\\ml_coding\\myenv\\lib\\site-packages (from httpx>=0.20.0->httpx[http2]>=0.20.0->qdrant-client) (1.3.1)\n",
      "Requirement already satisfied: h11<0.15,>=0.13 in c:\\users\\beati\\onedrive\\documents\\github_repos\\ml_coding\\myenv\\lib\\site-packages (from httpcore==1.*->httpx>=0.20.0->httpx[http2]>=0.20.0->qdrant-client) (0.14.0)\n",
      "Requirement already satisfied: h2<5,>=3 in c:\\users\\beati\\onedrive\\documents\\github_repos\\ml_coding\\myenv\\lib\\site-packages (from httpx[http2]>=0.20.0->qdrant-client) (4.1.0)\n",
      "Requirement already satisfied: pywin32>=226 in c:\\users\\beati\\onedrive\\documents\\github_repos\\ml_coding\\myenv\\lib\\site-packages (from portalocker<3.0.0,>=2.7.0->qdrant-client) (306)\n",
      "Requirement already satisfied: annotated-types>=0.6.0 in c:\\users\\beati\\onedrive\\documents\\github_repos\\ml_coding\\myenv\\lib\\site-packages (from pydantic>=1.10.8->qdrant-client) (0.7.0)\n",
      "Requirement already satisfied: pydantic-core==2.23.4 in c:\\users\\beati\\onedrive\\documents\\github_repos\\ml_coding\\myenv\\lib\\site-packages (from pydantic>=1.10.8->qdrant-client) (2.23.4)\n",
      "Requirement already satisfied: typing-extensions>=4.6.1 in c:\\users\\beati\\onedrive\\documents\\github_repos\\ml_coding\\myenv\\lib\\site-packages (from pydantic>=1.10.8->qdrant-client) (4.12.2)\n",
      "Requirement already satisfied: hyperframe<7,>=6.0 in c:\\users\\beati\\onedrive\\documents\\github_repos\\ml_coding\\myenv\\lib\\site-packages (from h2<5,>=3->httpx[http2]>=0.20.0->qdrant-client) (6.0.1)\n",
      "Requirement already satisfied: hpack<5,>=4.0 in c:\\users\\beati\\onedrive\\documents\\github_repos\\ml_coding\\myenv\\lib\\site-packages (from h2<5,>=3->httpx[http2]>=0.20.0->qdrant-client) (4.0.0)\n",
      "Note: you may need to restart the kernel to use updated packages.\n"
     ]
    }
   ],
   "source": [
    "%pip install qdrant-client"
   ]
  },
  {
   "cell_type": "markdown",
   "metadata": {},
   "source": [
    "Set up vector DB through Qdrant\n",
    "- [github repo](https://github.com/qdrant/qdrant)\n",
    "- [API reference](https://api.qdrant.tech/api-reference)"
   ]
  },
  {
   "cell_type": "code",
   "execution_count": 6,
   "metadata": {},
   "outputs": [],
   "source": [
    "from qdrant_client import QdrantClient\n",
    "qdrant = QdrantClient(path=\"vec_db/qdrant_demo\") # Create in-memory Qdrant instance, for testing, CI/CD"
   ]
  },
  {
   "cell_type": "code",
   "execution_count": 7,
   "metadata": {},
   "outputs": [],
   "source": [
    "DEFAULT_COLLECTION = 'my_collection'"
   ]
  },
  {
   "cell_type": "code",
   "execution_count": 52,
   "metadata": {},
   "outputs": [],
   "source": [
    "DEFAULT_COLLECTION = 'my_collection'"
   ]
  },
  {
   "cell_type": "code",
   "execution_count": 13,
   "metadata": {},
   "outputs": [
    {
     "data": {
      "text/plain": [
       "True"
      ]
     },
     "execution_count": 13,
     "metadata": {},
     "output_type": "execute_result"
    }
   ],
   "source": [
    "from qdrant_client import models\n",
    "\n",
    "qdrant.create_collection(\n",
    "    collection_name='my_collection',\n",
    "    vectors_config=models.VectorParams(size=384, distance=models.Distance.COSINE)\n",
    ")"
   ]
  },
  {
   "cell_type": "code",
   "execution_count": 2,
   "metadata": {},
   "outputs": [
    {
     "data": {
      "text/plain": [
       "CollectionsResponse(collections=[CollectionDescription(name='my_collection')])"
      ]
     },
     "execution_count": 2,
     "metadata": {},
     "output_type": "execute_result"
    }
   ],
   "source": [
    "qdrant.get_collections()"
   ]
  },
  {
   "cell_type": "markdown",
   "metadata": {},
   "source": [
    "Get dataset from HuggingFace"
   ]
  },
  {
   "cell_type": "code",
   "execution_count": 9,
   "metadata": {},
   "outputs": [
    {
     "data": {
      "text/plain": [
       "DatasetDict({\n",
       "    train: Dataset({\n",
       "        features: ['instruction', 'output'],\n",
       "        num_rows: 1000\n",
       "    })\n",
       "})"
      ]
     },
     "execution_count": 9,
     "metadata": {},
     "output_type": "execute_result"
    }
   ],
   "source": [
    "from datasets import load_dataset\n",
    "\n",
    "dataset = load_dataset(\"NagendraHarish/webmd\")\n",
    "dataset"
   ]
  },
  {
   "cell_type": "markdown",
   "metadata": {},
   "source": [
    "Example of MiniLM"
   ]
  },
  {
   "cell_type": "code",
   "execution_count": 31,
   "metadata": {},
   "outputs": [
    {
     "name": "stderr",
     "output_type": "stream",
     "text": [
      "c:\\Users\\beati\\OneDrive\\Documents\\github_repos\\ml_coding\\myenv\\Lib\\site-packages\\transformers\\tokenization_utils_base.py:1601: FutureWarning: `clean_up_tokenization_spaces` was not set. It will be set to `True` by default. This behavior will be depracted in transformers v4.45, and will be then set to `False` by default. For more details check this issue: https://github.com/huggingface/transformers/issues/31884\n",
      "  warnings.warn(\n"
     ]
    },
    {
     "name": "stdout",
     "output_type": "stream",
     "text": [
      "[[ 6.76568747e-02  6.34959713e-02  4.87131178e-02  7.93049708e-02\n",
      "   3.74480747e-02  2.65281973e-03  3.93749960e-02 -7.09845219e-03\n",
      "   5.93613535e-02  3.15370485e-02  6.00980595e-02 -5.29052056e-02\n",
      "   4.06067446e-02 -2.59308629e-02  2.98428200e-02  1.12690695e-03\n",
      "   7.35148489e-02 -5.03818318e-02 -1.22386657e-01  2.37028580e-02\n",
      "   2.97265369e-02  4.24768478e-02  2.56337859e-02  1.99512066e-03\n",
      "  -5.69190606e-02 -2.71597914e-02 -3.29035483e-02  6.60248324e-02\n",
      "   1.19007185e-01 -4.58791144e-02 -7.26214498e-02 -3.25839706e-02\n",
      "   5.23413457e-02  4.50553186e-02  8.25298484e-03  3.67024355e-02\n",
      "  -1.39415739e-02  6.53918087e-02 -2.64272038e-02  2.06389377e-04\n",
      "  -1.36643564e-02 -3.62810530e-02 -1.95043888e-02 -2.89737973e-02\n",
      "   3.94270085e-02 -8.84090886e-02  2.62424443e-03  1.36713777e-02\n",
      "   4.83062193e-02 -3.11566442e-02 -1.17329180e-01 -5.11690341e-02\n",
      "  -8.85287598e-02 -2.18963176e-02  1.42986597e-02  4.44167666e-02\n",
      "  -1.34815862e-02  7.43392333e-02  2.66382825e-02 -1.98762845e-02\n",
      "   1.79191269e-02 -1.06051937e-02 -9.04263109e-02  2.13269275e-02\n",
      "   1.41204819e-01 -6.47176336e-03 -1.40379218e-03 -1.53609365e-02\n",
      "  -8.73571709e-02  7.22173750e-02  2.01402735e-02  4.25587483e-02\n",
      "  -3.49013358e-02  3.19474377e-04 -8.02970752e-02 -3.27472501e-02\n",
      "   2.85268389e-02 -5.13657555e-02  1.09389171e-01  8.19327757e-02\n",
      "  -9.84039903e-02 -9.34096426e-02 -1.51292086e-02  4.51249145e-02\n",
      "   4.94171903e-02 -2.51867864e-02  1.57077666e-02 -1.29290760e-01\n",
      "   5.31890383e-03  4.02342435e-03 -2.34571956e-02 -6.72983080e-02\n",
      "   2.92279869e-02 -2.60845292e-02  1.30625209e-02 -3.11663039e-02\n",
      "  -4.82713878e-02 -5.58859147e-02 -3.87504585e-02  1.20010830e-01\n",
      "  -1.03924191e-02  4.89704572e-02  5.53537011e-02  4.49358262e-02\n",
      "  -4.00976930e-03 -1.02959715e-01 -2.92968936e-02 -5.83402626e-02\n",
      "   2.70472337e-02 -2.20169406e-02 -7.22241476e-02 -4.13869992e-02\n",
      "  -1.93297844e-02  2.73327227e-03  2.77008337e-04 -9.67588946e-02\n",
      "  -1.00574732e-01 -1.41923139e-02 -8.07891935e-02  4.53925617e-02\n",
      "   2.45041568e-02  5.97613454e-02 -7.38184750e-02  1.19844228e-02\n",
      "  -6.63403496e-02 -7.69045055e-02  3.85158099e-02 -5.59362366e-33\n",
      "   2.80013867e-02 -5.60785122e-02 -4.86601628e-02  2.15569325e-02\n",
      "   6.01981059e-02 -4.81402352e-02 -3.50247025e-02  1.93313956e-02\n",
      "  -1.75152328e-02 -3.89210582e-02 -3.81064671e-03 -1.70287546e-02\n",
      "   2.82099992e-02  1.28291305e-02  4.71600518e-02  6.21030480e-02\n",
      "  -6.43588752e-02  1.29285604e-01 -1.31231276e-02  5.23069315e-02\n",
      "  -3.73681039e-02  2.89094672e-02 -1.68981049e-02 -2.37331092e-02\n",
      "  -3.33491713e-02 -5.16762696e-02  1.55356610e-02  2.08802689e-02\n",
      "  -1.25371739e-02  4.59579006e-02  3.72719578e-02  2.80566830e-02\n",
      "  -5.90004921e-02 -1.16988448e-02  4.92182672e-02  4.70329076e-02\n",
      "   7.35487640e-02 -3.70529965e-02  3.98457656e-03  1.06412098e-02\n",
      "  -1.61457167e-04 -5.27165979e-02  2.75928173e-02 -3.92920971e-02\n",
      "   8.44717473e-02  4.86860871e-02 -4.85872384e-03  1.79948527e-02\n",
      "  -4.28569354e-02  1.23375496e-02  6.39953185e-03  4.04823571e-02\n",
      "   1.48887243e-02 -1.53941372e-02  7.62948766e-02  2.37043984e-02\n",
      "   4.45236973e-02  5.08196019e-02 -2.31254054e-03 -1.88737046e-02\n",
      "  -1.23335505e-02  4.66001965e-02 -5.63437939e-02  6.29927367e-02\n",
      "  -3.15535367e-02  3.24912183e-02  2.34673303e-02 -6.55438453e-02\n",
      "   2.01709680e-02  2.57082470e-02 -1.23869609e-02 -8.36487208e-03\n",
      "  -6.64377883e-02  9.43073705e-02 -3.57093140e-02 -3.42482999e-02\n",
      "  -6.66357763e-03 -8.01522657e-03 -3.09710801e-02  4.33012694e-02\n",
      "  -8.21400806e-03 -1.50795013e-01  3.07691563e-02  4.00719307e-02\n",
      "  -3.79293337e-02  1.93215080e-03  4.00531031e-02 -8.77075270e-02\n",
      "  -3.68490815e-02  8.57961271e-03 -3.19252089e-02 -1.25257745e-02\n",
      "   7.35539868e-02  1.34734553e-03  2.05918476e-02  2.71098238e-33\n",
      "  -5.18577024e-02  5.78361228e-02 -9.18985084e-02  3.94421555e-02\n",
      "   1.05576470e-01 -1.96911767e-02  6.18402101e-02 -7.63465315e-02\n",
      "   2.40880121e-02  9.40048695e-02 -1.16535410e-01  3.71198505e-02\n",
      "   5.22425175e-02 -3.95860570e-03  5.72214574e-02  5.32854674e-03\n",
      "   1.24016866e-01  1.39022525e-02 -1.10249957e-02  3.56053375e-02\n",
      "  -3.30754407e-02  8.16574544e-02 -1.52003895e-02  6.05585277e-02\n",
      "  -6.01397492e-02  3.26102450e-02 -3.48296501e-02 -1.69881862e-02\n",
      "  -9.74907503e-02 -2.71484293e-02  1.74713950e-03 -7.68982396e-02\n",
      "  -4.31858152e-02 -1.89984236e-02 -2.91660801e-02  5.77488020e-02\n",
      "   2.41821390e-02 -1.16902823e-02 -6.21435083e-02  2.84351148e-02\n",
      "  -2.37495784e-04 -2.51783431e-02  4.39641299e-03  8.12839046e-02\n",
      "   3.64184119e-02 -6.04006611e-02 -3.65516841e-02 -7.93748274e-02\n",
      "  -5.08524757e-03  6.69698715e-02 -1.17784359e-01  3.23743112e-02\n",
      "  -4.71252613e-02 -1.34459427e-02 -9.48444754e-02  8.24957527e-03\n",
      "  -1.06748845e-02 -6.81881756e-02  1.11818290e-03  2.48020329e-02\n",
      "  -6.35889471e-02  2.84493212e-02 -2.61303633e-02  8.58111009e-02\n",
      "   1.14682302e-01 -5.35345674e-02 -5.63588515e-02  4.26008776e-02\n",
      "   1.09454673e-02  2.09579170e-02  1.00131117e-01  3.26050520e-02\n",
      "  -1.84208825e-01 -3.93208526e-02 -6.91454932e-02 -6.38104975e-02\n",
      "  -6.56385571e-02 -6.41249679e-03 -4.79612425e-02 -7.68133178e-02\n",
      "   2.95384731e-02 -2.29948349e-02  4.17037234e-02 -2.50047874e-02\n",
      "  -4.54505999e-03 -4.17136736e-02 -1.32289780e-02 -6.38356879e-02\n",
      "  -2.46472494e-03 -1.37337372e-02  1.68976206e-02 -6.30398393e-02\n",
      "   8.98880884e-02  4.18171100e-02 -1.85687207e-02 -1.80442150e-08\n",
      "  -1.67998001e-02 -3.21578346e-02  6.30383641e-02 -4.13091816e-02\n",
      "   4.44818884e-02  2.02462776e-03  6.29592612e-02 -5.17373579e-03\n",
      "  -1.00444704e-02 -3.05640399e-02  3.52672599e-02  5.58581874e-02\n",
      "  -4.67124321e-02  3.45103107e-02  3.29577848e-02  4.30113934e-02\n",
      "   2.94360965e-02 -3.03164870e-02 -1.71107985e-02  7.37484545e-02\n",
      "  -5.47909327e-02  2.77515091e-02  6.20167702e-03  1.58800557e-02\n",
      "   3.42978612e-02 -5.15750749e-03  2.35079974e-02  7.53135979e-02\n",
      "   1.92843135e-02  3.36196646e-02  5.09103872e-02  1.52497053e-01\n",
      "   1.64207779e-02  2.70528868e-02  3.75162214e-02  2.18552798e-02\n",
      "   5.66334128e-02 -3.95746529e-02  7.12313205e-02 -5.41377924e-02\n",
      "   1.03760161e-03  2.11853068e-02 -3.56309712e-02  1.09016955e-01\n",
      "   2.76533887e-03  3.13997492e-02  1.38416770e-03 -3.45738493e-02\n",
      "  -4.59277816e-02  2.88083702e-02  7.16906879e-03  4.84684519e-02\n",
      "   2.61018258e-02 -9.44068655e-03  2.82169394e-02  3.48724462e-02\n",
      "   3.69099006e-02 -8.58947542e-03 -3.53205018e-02 -2.47857608e-02\n",
      "  -1.91920958e-02  3.80708054e-02  5.99653274e-02 -4.22287174e-02]\n",
      " [ 8.64385888e-02  1.02762669e-01  5.39457984e-03  2.04444281e-03\n",
      "  -9.96335316e-03  2.53855214e-02  4.92875502e-02 -3.06265801e-02\n",
      "   6.87255189e-02  1.01366099e-02  7.75397941e-02 -9.00807530e-02\n",
      "   6.10618526e-03 -5.69898747e-02  1.41714625e-02  2.80491859e-02\n",
      "  -8.68465006e-02  7.64399171e-02 -1.03491336e-01 -6.77438080e-02\n",
      "   6.99946582e-02  8.44251215e-02 -7.24912155e-03  1.04770474e-02\n",
      "   1.34020513e-02  6.77577183e-02 -9.42086279e-02 -3.71689722e-02\n",
      "   5.22617437e-02 -3.10853347e-02 -9.63406861e-02  1.57716963e-02\n",
      "   2.57866755e-02  7.85244927e-02  7.89949074e-02  1.91516057e-02\n",
      "   1.64356567e-02  3.10086343e-03  3.81311327e-02  2.37090643e-02\n",
      "   1.05389478e-02 -4.40645143e-02  4.41738591e-02 -2.58728098e-02\n",
      "   6.15378581e-02 -4.05427553e-02 -8.64139944e-02  3.19722593e-02\n",
      "  -8.90663418e-04 -2.44437493e-02 -9.19721276e-02  2.33939514e-02\n",
      "  -8.30293447e-02  4.41510491e-02 -2.49692928e-02  6.23019934e-02\n",
      "  -1.30354275e-03  7.51395673e-02  2.46385131e-02 -6.47244453e-02\n",
      "  -1.17727764e-01  3.83392125e-02 -9.11767259e-02  6.35446161e-02\n",
      "   7.62739852e-02 -8.80241320e-02  9.54558607e-03 -4.69717532e-02\n",
      "  -8.41740891e-02  3.88823822e-02 -1.14393540e-01  6.28858199e-03\n",
      "  -3.49361710e-02  2.39750464e-02 -3.31316888e-02 -1.57243758e-02\n",
      "  -3.78955789e-02 -8.81249737e-03  7.06119090e-02  3.28066535e-02\n",
      "   2.03671609e-03 -1.12278990e-01  6.79722242e-03  1.22765619e-02\n",
      "   3.35303582e-02 -1.36200637e-02 -2.25490145e-02 -2.25228854e-02\n",
      "  -2.03195009e-02  5.04297242e-02 -7.48652816e-02 -8.22822377e-02\n",
      "   7.65962601e-02  4.93392497e-02 -3.75553407e-02  1.44634526e-02\n",
      "  -5.72457798e-02 -1.79954283e-02  1.09697945e-01  1.19462810e-01\n",
      "   8.09257035e-04  6.17057718e-02  3.26322354e-02 -1.30780056e-01\n",
      "  -1.48636609e-01 -6.16232492e-02  4.33886051e-02  2.67129410e-02\n",
      "   1.39786042e-02 -3.94002460e-02 -2.52711717e-02  3.87741439e-03\n",
      "   3.58664505e-02 -6.15420491e-02  3.76660451e-02  2.67565306e-02\n",
      "  -3.82659212e-02 -3.54793333e-02 -2.39227414e-02  8.67977366e-02\n",
      "  -1.84063036e-02  7.71039352e-02  1.39860332e-03  7.00383037e-02\n",
      "  -4.77877557e-02 -7.89820030e-02  5.10814302e-02 -2.99868297e-33\n",
      "  -3.91645953e-02 -2.56214407e-03  1.65210553e-02  9.48940963e-03\n",
      "  -5.66219501e-02  6.57783225e-02 -4.77002822e-02  1.11661982e-02\n",
      "  -5.73558547e-02 -9.16260947e-03 -2.17521265e-02 -5.59531599e-02\n",
      "  -1.11423125e-02  9.32793021e-02  1.66765172e-02 -1.36723584e-02\n",
      "   4.34388481e-02  1.87243510e-03  7.29944557e-03  5.16331829e-02\n",
      "   4.80608307e-02  1.35341436e-01 -1.71738826e-02 -1.29698589e-02\n",
      "  -7.50109851e-02  2.61107832e-02  2.69802343e-02  7.83060561e-04\n",
      "  -4.87270206e-02  1.17842657e-02 -4.59580347e-02 -4.83213365e-02\n",
      "  -1.95671506e-02  1.93889178e-02  1.98807325e-02  1.67432185e-02\n",
      "   9.87801403e-02 -2.74087917e-02  2.34808996e-02  3.70229827e-03\n",
      "  -6.14514835e-02 -1.21228443e-03 -9.50472057e-03  9.25153494e-03\n",
      "   2.38443799e-02  8.61232057e-02  2.26789843e-02  5.45164279e-04\n",
      "   3.47129442e-02  6.25465065e-03 -6.92776125e-03  3.92400548e-02\n",
      "   1.15674855e-02  3.26280072e-02  6.22155480e-02  2.76114307e-02\n",
      "   1.86883267e-02  3.55806015e-02  4.11796086e-02  1.54782254e-02\n",
      "   4.22691405e-02  3.82248387e-02  1.00313257e-02 -2.83245798e-02\n",
      "   4.47052605e-02 -4.10458520e-02 -4.50545130e-03 -5.44733927e-02\n",
      "   2.62320973e-02  1.79862697e-02 -1.23118736e-01 -4.66952063e-02\n",
      "  -1.35913026e-02  6.46710545e-02  3.57347354e-03 -1.22234011e-02\n",
      "  -1.79382376e-02 -2.55502239e-02  2.37224251e-02  4.08666953e-03\n",
      "  -6.51476011e-02  4.43651639e-02  4.68596220e-02 -3.25174928e-02\n",
      "   4.02266905e-03 -3.97605030e-03  1.11939497e-02 -9.95598137e-02\n",
      "   3.33168283e-02  8.01061019e-02  9.42692310e-02 -6.38293996e-02\n",
      "   3.23151834e-02 -5.13553470e-02 -7.49878539e-03  5.30048540e-34\n",
      "  -4.13195044e-02  9.49647054e-02 -1.06401421e-01  4.96590622e-02\n",
      "  -3.41913328e-02 -3.16745862e-02 -1.71556193e-02  1.70102261e-03\n",
      "   5.79757765e-02 -1.21776515e-03 -1.68536101e-02 -5.16912863e-02\n",
      "   5.52998669e-02 -3.42647843e-02  3.08179539e-02 -3.10480818e-02\n",
      "   9.27532762e-02  3.72663550e-02 -2.37398297e-02  4.45893742e-02\n",
      "   1.46153299e-02  1.16239369e-01 -5.00112772e-02  3.88716385e-02\n",
      "   4.24743816e-03  2.56976429e-02  3.27243693e-02  4.29907441e-02\n",
      "  -1.36144403e-02  2.56122313e-02  1.06262397e-02 -8.46863762e-02\n",
      "  -9.52982083e-02  1.08399875e-01 -7.51600116e-02 -1.37773622e-02\n",
      "   6.37338161e-02 -4.49669687e-03 -3.25321443e-02  6.23613857e-02\n",
      "   3.48053016e-02 -3.54922377e-02 -2.00222339e-02  3.66608463e-02\n",
      "  -2.48836912e-02  1.01818396e-02 -7.01233149e-02 -4.31950837e-02\n",
      "   2.95332856e-02 -2.94910686e-04 -3.45386788e-02  1.46675659e-02\n",
      "  -9.83969942e-02 -4.70488556e-02 -8.85497406e-03 -8.89913589e-02\n",
      "   3.50995921e-02 -1.29601985e-01 -4.98866439e-02 -6.12047203e-02\n",
      "  -5.97797856e-02  9.46316216e-03  4.91217822e-02 -7.75026679e-02\n",
      "   8.09727013e-02 -4.79257517e-02  2.34379107e-03  7.57031664e-02\n",
      "  -2.40175594e-02 -1.52546028e-02  4.86738458e-02 -3.85968462e-02\n",
      "  -7.04831555e-02 -1.20348427e-02 -3.88790779e-02 -7.76017085e-02\n",
      "  -1.07243806e-02  1.04188500e-02 -2.13753562e-02 -9.17386189e-02\n",
      "  -1.11344922e-02 -2.96066068e-02  2.46458203e-02  4.65711253e-03\n",
      "  -1.63450018e-02 -3.95219773e-02  7.73373693e-02 -2.84733064e-02\n",
      "  -3.69941490e-03  8.27665031e-02 -1.10408980e-02  3.13983373e-02\n",
      "   5.35094365e-02  5.75145967e-02 -3.17622162e-02 -1.52911266e-08\n",
      "  -7.99661353e-02 -4.76796962e-02 -8.59788805e-02  5.69616705e-02\n",
      "  -4.08866182e-02  2.23832261e-02 -4.64444188e-03 -3.80130708e-02\n",
      "  -3.10671031e-02 -1.07278032e-02  1.97698567e-02  7.77001074e-03\n",
      "  -6.09471928e-03 -3.86376083e-02  2.80272029e-02  6.78137839e-02\n",
      "  -2.35351659e-02  3.21747214e-02  8.02534353e-03 -2.39106994e-02\n",
      "  -1.21995993e-03  3.14598903e-02 -5.24923950e-02 -8.06814991e-03\n",
      "   3.14773759e-03  5.11496440e-02 -4.44104671e-02  6.36013374e-02\n",
      "   3.85084264e-02  3.30433212e-02 -4.18728031e-03  4.95592654e-02\n",
      "  -5.69605418e-02 -6.49711769e-03 -2.49792952e-02 -1.60867460e-02\n",
      "   6.62289634e-02 -2.06310879e-02  1.08045712e-01  1.68547053e-02\n",
      "   1.43812699e-02 -1.32127311e-02 -1.29387364e-01  6.95216581e-02\n",
      "  -5.55772819e-02 -6.75413311e-02 -5.45818033e-03 -6.13596058e-03\n",
      "   3.90840843e-02 -6.28779382e-02  3.74063663e-02 -1.16570964e-02\n",
      "   1.29150217e-02 -5.52495457e-02  5.16075939e-02 -4.30842349e-03\n",
      "   5.80247566e-02  1.86945144e-02  2.27810480e-02  3.21665406e-02\n",
      "   5.37978709e-02  7.02848956e-02  7.49312267e-02 -8.41774866e-02]]\n"
     ]
    }
   ],
   "source": [
    "from sentence_transformers import SentenceTransformer\n",
    "\n",
    "sentences = [\"This is an example sentence\", \"Each sentence is converted\"]\n",
    "model = SentenceTransformer('sentence-transformers/all-MiniLM-L6-v2', device='cpu')\n",
    "embeddings = model.encode(sentences)\n",
    "print(embeddings)\n"
   ]
  },
  {
   "cell_type": "code",
   "execution_count": 10,
   "metadata": {},
   "outputs": [
    {
     "name": "stdout",
     "output_type": "stream",
     "text": [
      "(1000, 384)\n",
      "(1000, 384)\n"
     ]
    }
   ],
   "source": [
    "# Q, A = dataset['train']\n",
    "q_emb = model.encode([item['instruction'] for item in dataset['train']])\n",
    "print(q_emb.shape)\n",
    "\n",
    "a_emb = model.encode([item['output'] for item in dataset['train']])\n",
    "print(a_emb.shape)"
   ]
  },
  {
   "cell_type": "code",
   "execution_count": 47,
   "metadata": {},
   "outputs": [],
   "source": [
    "points = []\n",
    "for i, item in enumerate(dataset['train']):\n",
    "    points.append(\n",
    "        models.PointStruct(\n",
    "            id = i+1,\n",
    "            payload={\n",
    "                'question': item['instruction'],\n",
    "                'answer': item['output'],\n",
    "            },\n",
    "            vector=q_emb[i].tolist()\n",
    "        )\n",
    "    )\n",
    "\n",
    "    points.append(\n",
    "        models.PointStruct(\n",
    "            id = i+1001,\n",
    "            payload={\n",
    "                'question': item['instruction'],\n",
    "                'answer': item['output'],\n",
    "            },\n",
    "            vector=a_emb[i].tolist()\n",
    "        )\n",
    "    )"
   ]
  },
  {
   "cell_type": "code",
   "execution_count": 49,
   "metadata": {},
   "outputs": [
    {
     "data": {
      "text/plain": [
       "UpdateResult(operation_id=0, status=<UpdateStatus.COMPLETED: 'completed'>)"
      ]
     },
     "execution_count": 49,
     "metadata": {},
     "output_type": "execute_result"
    }
   ],
   "source": [
    "qdrant.upsert(\n",
    "    collection_name=DEFAULT_COLLECTION,\n",
    "    points=points,\n",
    ")"
   ]
  },
  {
   "cell_type": "code",
   "execution_count": 32,
   "metadata": {},
   "outputs": [
    {
     "name": "stdout",
     "output_type": "stream",
     "text": [
      "score 0.6044077552532906, related question: \n",
      " [Q]i am 4 weeks pregnant and my throat is very sore. my tonsils feel swollen but i donât have a cold. what can i take? \n",
      " related answer [A]keep your throat moist and drink plenty of fluids specifically those that will not dehydrate you (less or no caffeine). if you have regular issues with allergies partner with your pharmacist and physician to make sure it is right for you concerning the timing or current trimester of your pregnancy. keep gargling with hot water with salt added. you could also keep drinking lemon juice mixed to warm water and add honey insead of sugar. you could have green tea with honey. keep having warm soup and water. take care.\n",
      "score 0.542681190723476, related question: \n",
      " [Q]how can i cure acid reflux? . i ate a large meal and went to bed right after and 4 hours later woke up with a burning throat. gargled some cold water and saw some blood got worried gargled couple of more times but the bleeding got worse. rushed to a doctor and got some medications but i still sometimes feel its hard to sleep. and when i wake up my throat feels very dry even though i have woken up couple of times to drink water. \n",
      " related answer [A]most helpful answer the primary approach to properly managing acid reflux should be to actively identify and avoid certain foods that trigger your symptoms. here are some of the common foods that can trigger acid reflux: â¢ fatty foods â¢ acidic foods like citrus fruits or tomatoes and tomato-containing products â¢ coffee caffeinated beverages or alcohol â¢ chocolate or peppermint â¢ spicy foods â¢ garlic or onions also try to refrain from lying down after meals eating too much in one sitting eating less than two hours before going to bed or exercising or eating too quickly. quitting smoking and losing weight may also alleviate symptoms as well. i would suggest journaling your dietary intake and activities each day so that you can notice any trends in what might be provoking your symptoms. if you continue to experience acid reflux symptoms remedies might include over the counter products or prescription medication. certain alkaline foods may help to neutralize acid reflux too but itâs more important to prevent acid reflux from occurring in the first place by avoiding your triggers. consult with your doctor about long term treatment/management options and visit the webmd heartburn/gerd health center for more information. <link>\n"
     ]
    }
   ],
   "source": [
    "question = 'what to do if my throat is painful?'\n",
    "emb = model.encode(question)\n",
    "resp = qdrant.search(\n",
    "    collection_name=DEFAULT_COLLECTION,\n",
    "    query_vector=emb,\n",
    "    limit=2\n",
    ")\n",
    "\n",
    "doc_str = \"\"\n",
    "for i, p in enumerate(resp):\n",
    "    print(f'score {p.score}, related question: \\n {p.payload['question']} \\n related answer {p.payload['answer']}')\n",
    "    doc_str += f\"\"\"\n",
    "    <DOC {i+1}>\n",
    "    {p.payload['question']}\n",
    "    {p.payload['answer']}\n",
    "    <End of DOC {i+1}>\n",
    "    \"\"\""
   ]
  },
  {
   "cell_type": "code",
   "execution_count": 33,
   "metadata": {},
   "outputs": [
    {
     "name": "stdout",
     "output_type": "stream",
     "text": [
      "\n",
      "=== Task\n",
      "Answer the question using given documents. Each document will contains a question starting with '[Q]'\n",
      "and answer starting with [A].\n",
      "==== Instruction\n",
      "Try to keep your answer ground in the facts of the given documents. If documents are not relevant, response with\n",
      "'given documents not relevant'.\n",
      "### documents\n",
      "\n",
      "    <DOC 1>\n",
      "    [Q]i am 4 weeks pregnant and my throat is very sore. my tonsils feel swollen but i donât have a cold. what can i take?\n",
      "    [A]keep your throat moist and drink plenty of fluids specifically those that will not dehydrate you (less or no caffeine). if you have regular issues with allergies partner with your pharmacist and physician to make sure it is right for you concerning the timing or current trimester of your pregnancy. keep gargling with hot water with salt added. you could also keep drinking lemon juice mixed to warm water and add honey insead of sugar. you could have green tea with honey. keep having warm soup and water. take care.\n",
      "    <End of DOC 1>\n",
      "    \n",
      "    <DOC 2>\n",
      "    [Q]how can i cure acid reflux? . i ate a large meal and went to bed right after and 4 hours later woke up with a burning throat. gargled some cold water and saw some blood got worried gargled couple of more times but the bleeding got worse. rushed to a doctor and got some medications but i still sometimes feel its hard to sleep. and when i wake up my throat feels very dry even though i have woken up couple of times to drink water.\n",
      "    [A]most helpful answer the primary approach to properly managing acid reflux should be to actively identify and avoid certain foods that trigger your symptoms. here are some of the common foods that can trigger acid reflux: â¢ fatty foods â¢ acidic foods like citrus fruits or tomatoes and tomato-containing products â¢ coffee caffeinated beverages or alcohol â¢ chocolate or peppermint â¢ spicy foods â¢ garlic or onions also try to refrain from lying down after meals eating too much in one sitting eating less than two hours before going to bed or exercising or eating too quickly. quitting smoking and losing weight may also alleviate symptoms as well. i would suggest journaling your dietary intake and activities each day so that you can notice any trends in what might be provoking your symptoms. if you continue to experience acid reflux symptoms remedies might include over the counter products or prescription medication. certain alkaline foods may help to neutralize acid reflux too but itâs more important to prevent acid reflux from occurring in the first place by avoiding your triggers. consult with your doctor about long term treatment/management options and visit the webmd heartburn/gerd health center for more information. <link>\n",
      "    <End of DOC 2>\n",
      "    \n",
      "### question\n",
      "what to do if my throat is painful?\n",
      "\n"
     ]
    }
   ],
   "source": [
    "prompt = \"\"\"\n",
    "=== Task\n",
    "Answer the question using given documents. Each document will contains a question starting with '[Q]'\n",
    "and answer starting with [A].\n",
    "==== Instruction\n",
    "Try to keep your answer ground in the facts of the given documents. If documents are not relevant, response with\n",
    "'given documents not relevant'.\n",
    "### documents\n",
    "{{document}}\n",
    "### question\n",
    "{{question}}\n",
    "\"\"\"\n",
    "param_dict = {\n",
    "    '{{document}}': doc_str,\n",
    "    '{{question}}': question\n",
    "}\n",
    "\n",
    "def replace_with_mapping(text, mapping):\n",
    "    for old, new in mapping.items():\n",
    "        text = text.replace(old, new)\n",
    "    return text\n",
    "\n",
    "request = replace_with_mapping(prompt, param_dict)\n",
    "print(request)"
   ]
  },
  {
   "cell_type": "code",
   "execution_count": 24,
   "metadata": {},
   "outputs": [
    {
     "name": "stderr",
     "output_type": "stream",
     "text": [
      "c:\\Users\\beati\\OneDrive\\Documents\\github_repos\\ml_coding\\myenv\\Lib\\site-packages\\transformers\\tokenization_utils_base.py:1601: FutureWarning: `clean_up_tokenization_spaces` was not set. It will be set to `True` by default. This behavior will be depracted in transformers v4.45, and will be then set to `False` by default. For more details check this issue: https://github.com/huggingface/transformers/issues/31884\n",
      "  warnings.warn(\n"
     ]
    }
   ],
   "source": [
    "import torch\n",
    "import transformers\n",
    "\n",
    "device = 'cuda' if torch.cuda.is_available() else 'cpu'\n",
    "\n",
    "tokenizer = transformers.AutoTokenizer.from_pretrained('gpt2')\n",
    "amateur_llm = transformers.AutoModelForCausalLM.from_pretrained('gpt2')"
   ]
  },
  {
   "cell_type": "code",
   "execution_count": 25,
   "metadata": {},
   "outputs": [
    {
     "name": "stderr",
     "output_type": "stream",
     "text": [
      "Setting `pad_token_id` to `eos_token_id`:50256 for open-end generation.\n"
     ]
    },
    {
     "data": {
      "text/plain": [
       "'what to do if my throat is painful? Do I sit on the bed and watch the camera? Yes I do! Is there a way to hold my nose when you\\'re making me feel so cold?\\n\\nSleeping in a room with a hot tub and steam running down your throat.\\n\\nI\\'ll try that.\\n\\nI\\'m sorry for having to say it. But what about you? I think I\\'d rather be in a room with a hot tub with a lot of hot steam running down your throat.\\n\\nYou can\\'t sit still because of you making me feel like I\\'m having a \"hot\" tub for my own entertainment.\\n\\nI\\'d better stop making you feel like you\\'re having a \"hot\" tub.\\n\\nI\\'ll be right back.\\n\\nSo, how do you feel?\\n\\nYeah, I\\'m going to go downstairs with you.\\n\\nYou\\'re going to watch the video of your hot tub and wait for it to start cooking.\\n\\nBecause you can\\'t wait to take a seat, and you can\\'t wait to watch my hot tub cooking.\\n\\nWait, wait, wait, wait, wait.\\n\\nThis is going to take me a lot longer than it will take you to do. My throat is going to go cold for you.\\n\\nSo you want to go to bed. Do you want to lay on your back? Do you want to lie down and let your hair fall back down on your face?\\n\\nAnd I want to do that.\\n\\nThere\\'s no one to sit so I\\'m going to lay just down on my back and wait.\\n\\nI want to sit up straight and let my head fall over my knees and my head drop over my face.\\n\\nAnd if I feel so cold, I want to sit up straight and sit down.\\n\\nI want to sit up straight and sit down.\\n\\nWait, wait, wait, wait, wait.\\n\\nYou\\'re very hot. You feel like you\\'re wearing a dress down there. There\\'s a dress down there.\\n\\nRight, right.\\n\\nYou\\'re not wearing a dress down there.\\n\\nOh, my God. I\\'m sitting up straight.\\n\\nYou\\'re not going to even bother sitting up straight.\\n\\nAnd that\\'s why I\\'m going to start eating a lot of vegetables and a lot of meat, so I can eat more of all'"
      ]
     },
     "execution_count": 25,
     "metadata": {},
     "output_type": "execute_result"
    }
   ],
   "source": [
    "def generate_builtin(model, prompt, max_len=100, temperature = 0.8, device=device):\n",
    "    model_inputs = tokenizer(prompt, return_tensors=\"pt\").to(device)\n",
    "    model.to(device)\n",
    "\n",
    "    gen_tokens = model.generate(\n",
    "        **model_inputs,\n",
    "        do_sample=True,\n",
    "        temperature=temperature,\n",
    "        max_length=max_len,\n",
    "    )\n",
    "    return tokenizer.batch_decode(gen_tokens)[0]\n",
    "\n",
    "generate_builtin(amateur_llm, question, max_len=500, device='cpu')"
   ]
  },
  {
   "cell_type": "code",
   "execution_count": 34,
   "metadata": {},
   "outputs": [
    {
     "name": "stderr",
     "output_type": "stream",
     "text": [
      "Setting `pad_token_id` to `eos_token_id`:50256 for open-end generation.\n"
     ]
    },
    {
     "data": {
      "text/plain": [
       "\"\\n=== Task\\nAnswer the question using given documents. Each document will contains a question starting with '[Q]'\\nand answer starting with [A].\\n==== Instruction\\nTry to keep your answer ground in the facts of the given documents. If documents are not relevant, response with\\n'given documents not relevant'.\\n### documents\\n\\n    <DOC 1>\\n    [Q]i am 4 weeks pregnant and my throat is very sore. my tonsils feel swollen but i donâ\\x80\\x99t have a cold. what can i take?\\n    [A]keep your throat moist and drink plenty of fluids specifically those that will not dehydrate you (less or no caffeine). if you have regular issues with allergies partner with your pharmacist and physician to make sure it is right for you concerning the timing or current trimester of your pregnancy. keep gargling with hot water with salt added. you could also keep drinking lemon juice mixed to warm water and add honey insead of sugar. you could have green tea with honey. keep having warm soup and water. take care.\\n    <End of DOC 1>\\n    \\n    <DOC 2>\\n    [Q]how can i cure acid reflux?. i ate a large meal and went to bed right after and 4 hours later woke up with a burning throat. gargled some cold water and saw some blood got worried gargled couple of more times but the bleeding got worse. rushed to a doctor and got some medications but i still sometimes feel its hard to sleep. and when i wake up my throat feels very dry even though i have woken up couple of times to drink water.\\n    [A]most helpful answer the primary approach to properly managing acid reflux should be to actively identify and avoid certain foods that trigger your symptoms. here are some of the common foods that can trigger acid reflux: â\\x80¢ fatty foods â\\x80¢ acidic foods like citrus fruits or tomatoes and tomato-containing products â\\x80¢ coffee caffeinated beverages or alcohol â\\x80¢ chocolate or peppermint â\\x80¢ spicy foods â\\x80¢ garlic or onions also try to refrain from lying down after meals eating too much in one sitting eating less than two hours before going to bed or exercising or eating too quickly. quitting smoking and losing weight may also alleviate symptoms as well. i would suggest journaling your dietary intake and activities each day so that you can notice any trends in what might be provoking your symptoms. if you continue to experience acid reflux symptoms remedies might include over the counter products or prescription medication. certain alkaline foods may help to neutralize acid reflux too but itâ\\x80\\x99s more important to prevent acid reflux from occurring in the first place by avoiding your triggers. consult with your doctor about long term treatment/management options and visit the webmd heartburn/gerd health center for more information. <link>\\n    <End of DOC 2>\\n    \\n### question\\nwhat to do if my throat is painful?\\n\\n------------------------------ -------------- The throat problem usually persists for 3 to 6 months. -------------- -------------- A doctor can diagnose the problem through a CT scan. -------------- -------------- A physical exam, the CT scan, and a blood test to determine if the situation is really a health problem or to make a diagnosis. -------------- -------------- -------------- The symptoms. -------------- -------------- -------------- Fever, wheezing, vomiting, abdominal pain, itching, or wheezing and swelling that are usually absent during the first few days of the infection, but may be present during the last few days when the symptoms are less severe. -------------- -------------- -------------- -------------- Bleeding or other symptoms to see if the problem is a health problem. -------------- -------------- -------------- Bacterial or fungal infections or a bacterial or fungal infection. -------------- -------------- -------------- -------------- Fungi. -------------- -------------- -------------- -------------- Cholera -------------- -------------- -------------- -------------- -------------- Parasites and bugs. -------------- -------------- -------------- -------------- Diphtheria (Vaginal Flagellation). -------------- -------------- -------------- -------------- Infections and small parasites. -------------- -------------- -------------- -------------- -------------- Diphtheria/Vaginal Flagellation. -------------- -------------- -------------- -------------- -------------- -------------- -------------- -------------- Vibrio or human cholera. -------------- -------------- -------------- -------------- -------------- -------------- -------------- -------------- -------------- -------------- -------------- -------------- -------------- -------------- -------------- -------------- -------------- -------------- -------------- -------------- -------------- -------------- -------------- -------------- -------------- -------------- -------------- -------------- -------------- -------------- -------------- --------------\\n\\n\\nNote: Your medical records will be available for 30 days after you apply to take these medications. You may\""
      ]
     },
     "execution_count": 34,
     "metadata": {},
     "output_type": "execute_result"
    }
   ],
   "source": [
    "generate_builtin(amateur_llm, request, max_len=1024, device='cpu')"
   ]
  }
 ],
 "metadata": {
  "kernelspec": {
   "display_name": "myenv",
   "language": "python",
   "name": "python3"
  },
  "language_info": {
   "codemirror_mode": {
    "name": "ipython",
    "version": 3
   },
   "file_extension": ".py",
   "mimetype": "text/x-python",
   "name": "python",
   "nbconvert_exporter": "python",
   "pygments_lexer": "ipython3",
   "version": "3.12.5"
  }
 },
 "nbformat": 4,
 "nbformat_minor": 2
}
