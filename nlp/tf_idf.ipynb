{
 "cells": [
  {
   "cell_type": "markdown",
   "metadata": {},
   "source": [
    "**TF-IDF example**\n",
    "\n",
    "TF-idf from sklearn: 4>3>2>1>5"
   ]
  },
  {
   "cell_type": "code",
   "execution_count": 104,
   "metadata": {},
   "outputs": [
    {
     "name": "stdout",
     "output_type": "stream",
     "text": [
      "<COOrdinate sparse matrix of dtype 'float64'\n",
      "\twith 5 stored elements and shape (5, 1)>\n",
      "  Coords\tValues\n",
      "  (0, 0)\t0.10214081712273161\n",
      "  (1, 0)\t0.43636683282285316\n",
      "  (2, 0)\t0.5789137387733785\n",
      "  (3, 0)\t0.9086568789254059\n",
      "  (4, 0)\t0.07204972456387403\n"
     ]
    }
   ],
   "source": [
    "from sklearn.feature_extraction.text import TfidfVectorizer\n",
    "import numpy as np\n",
    "\n",
    "corpus = [\n",
    "    \"The duck loves to eat the worm\",\n",
    "    \"The worm doesn’t like the early bird\",\n",
    "    \"The bird loves to get up early to get the worm\",\n",
    "    \"The bird gets the worm from the early duck\",\n",
    "    \"The duck and the birds are so different from each other but one thing they have in common is that they both get the worm\"\n",
    "]\n",
    "query = \"The early bird gets the worm\"\n",
    "\n",
    "def tfIdfSklearn():\n",
    "    vectorizer = TfidfVectorizer(stop_words='english')\n",
    "    X = vectorizer.fit_transform(corpus)\n",
    "    feature_names = vectorizer.get_feature_names_out()\n",
    "    idf = vectorizer.idf_\n",
    "    emb = vectorizer.transform([query])\n",
    "\n",
    "    row_squares = X.multiply(X).sum(axis=1)\n",
    "    row_norms = np.sqrt(row_squares)\n",
    "    cos_sim = (X @ emb.T) / row_norms #omit emb norm, since it doesn/t affect retrieval\n",
    "\n",
    "    print(cos_sim)\n",
    "    \n",
    "tfIdfSklearn()"
   ]
  },
  {
   "cell_type": "markdown",
   "metadata": {},
   "source": [
    "**TF-IDF from scratch**\n",
    "retrieval sequence: 2->5->3->1->4"
   ]
  },
  {
   "cell_type": "code",
   "execution_count": 101,
   "metadata": {},
   "outputs": [
    {
     "name": "stdout",
     "output_type": "stream",
     "text": [
      "[[0.07661557]\n",
      " [0.10377449]\n",
      " [0.08936724]\n",
      " [0.04103002]\n",
      " [0.10128814]]\n"
     ]
    }
   ],
   "source": [
    "import math\n",
    "from typing import List\n",
    "terms = \"bird, duck, worm, early, get, love\".split(', ') #6 terms\n",
    "\n",
    "m = len(corpus)\n",
    "n = len(terms)\n",
    "\n",
    "def my_tf_idf():\n",
    "    def get_tf(doc: str, terms: List[str]) -> float:\n",
    "        min_len = min([len(t) for t in terms])\n",
    "        max_len = max([len(t) for t in terms])\n",
    "        total_count = 0\n",
    "        term_count = {key:0 for key in terms}\n",
    "        for i in range(len(doc)):\n",
    "            for word_len in range(min_len, max_len+1):\n",
    "                word = doc[i:i+word_len+1]\n",
    "                if word in terms:\n",
    "                    term_count[word] += 1\n",
    "                    total_count += 1\n",
    "\n",
    "        if total_count == 0:\n",
    "            return [0] * n\n",
    "        else:\n",
    "            return [term_count[terms[i]] / total_count for i in range(n)]\n",
    "\n",
    "    def get_idf(term:str) -> float: # docs = corpus\n",
    "        count = 0\n",
    "        for doc in corpus:\n",
    "            if term in doc:\n",
    "                count += 1\n",
    "        # print(f\"{term}: {count}\")\n",
    "        return math.log(m/(1+count))\n",
    "\n",
    "    tf = [get_tf(doc, terms) for doc in corpus]\n",
    "    idf = [get_idf(term) for term in terms]\n",
    "\n",
    "    tf_idf = np.array(tf) * (np.ones(shape=(m,1)) @ np.array(idf).reshape(1,-1))\n",
    "\n",
    "    query_tf = get_tf(query, terms)\n",
    "    query_emb = np.array([query_tf[i] * idf[i] for i in range(n)]).reshape(-1,1) # query tf-idf\n",
    "\n",
    "    cos_sim = (tf_idf @ query_emb) / np.linalg.norm(tf_idf, axis=1).reshape(-1,1)\n",
    "    print(cos_sim)\n",
    "\n",
    "my_tf_idf()"
   ]
  },
  {
   "cell_type": "markdown",
   "metadata": {},
   "source": [
    "v2 with no preprocessing: 2->4->3->1->5"
   ]
  },
  {
   "cell_type": "code",
   "execution_count": 102,
   "metadata": {},
   "outputs": [
    {
     "name": "stdout",
     "output_type": "stream",
     "text": [
      "[[0.03845265]\n",
      " [0.1214849 ]\n",
      " [0.040818  ]\n",
      " [0.10360755]\n",
      " [0.01889253]]\n"
     ]
    }
   ],
   "source": [
    "import math\n",
    "from typing import List\n",
    "terms = \"bird, duck, worm, early, get, love\".split(', ') #6 terms\n",
    "\n",
    "m = len(corpus)\n",
    "n = len(terms)\n",
    "\n",
    "def my_tf_idf_v2():\n",
    "    def get_tf(doc: str, terms: List[str]) -> float:                \n",
    "        words = doc.split(' ')\n",
    "        words_filtered = [w for w in words if w in terms]\n",
    "        total_count = len(words_filtered)\n",
    "        term_count = {key:0 for key in terms}\n",
    "\n",
    "        for word in words_filtered:\n",
    "            term_count[word] += 1\n",
    "\n",
    "        if total_count == 0:\n",
    "            return [0] * n\n",
    "        else:\n",
    "            return [term_count[terms[i]] / total_count for i in range(n)]\n",
    "\n",
    "    def get_idf(term:str) -> float: # docs = corpus\n",
    "        count = 0\n",
    "        for doc in corpus:\n",
    "            if term in doc.split(' '):\n",
    "                count += 1\n",
    "        # print(f\"{term}: {count}\")\n",
    "        return math.log(m/(1+count))\n",
    "\n",
    "    tf = [get_tf(doc, terms) for doc in corpus]\n",
    "    idf = [get_idf(term) for term in terms]\n",
    "\n",
    "    tf_idf = np.array(tf) * (np.ones(shape=(m,1)) @ np.array(idf).reshape(1,-1))\n",
    "\n",
    "    query_tf = get_tf(query, terms)\n",
    "    query_emb = np.array([query_tf[i] * idf[i] for i in range(n)]).reshape(-1,1) # query tf-idf\n",
    "\n",
    "    cos_sim = (tf_idf @ query_emb) / np.linalg.norm(tf_idf, axis=1).reshape(-1,1)\n",
    "    print(cos_sim)\n",
    "\n",
    "my_tf_idf_v2()"
   ]
  }
 ],
 "metadata": {
  "kernelspec": {
   "display_name": "Python 3",
   "language": "python",
   "name": "python3"
  },
  "language_info": {
   "codemirror_mode": {
    "name": "ipython",
    "version": 3
   },
   "file_extension": ".py",
   "mimetype": "text/x-python",
   "name": "python",
   "nbconvert_exporter": "python",
   "pygments_lexer": "ipython3",
   "version": "3.12.5"
  }
 },
 "nbformat": 4,
 "nbformat_minor": 2
}
