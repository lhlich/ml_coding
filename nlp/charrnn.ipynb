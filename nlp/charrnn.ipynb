{
 "cells": [
  {
   "cell_type": "markdown",
   "metadata": {},
   "source": [
    "Text generation example with char-rnn\n",
    "\n",
    "First to load data:"
   ]
  },
  {
   "cell_type": "code",
   "execution_count": 2,
   "metadata": {},
   "outputs": [
    {
     "name": "stdout",
     "output_type": "stream",
     "text": [
      "Data downloaded successfully!\n"
     ]
    }
   ],
   "source": [
    "import requests\n",
    "\n",
    "def download_text(url):\n",
    "    # Send a HTTP request to the URL\n",
    "    response = requests.get(url)\n",
    "    \n",
    "    # Check if the request was successful\n",
    "    if response.status_code == 200:\n",
    "        return response.text\n",
    "    else:\n",
    "        return None\n",
    "\n",
    "# Example usage\n",
    "url = 'https://homl.info/shakespeare'\n",
    "text_data = download_text(url)\n",
    "if text_data:\n",
    "    print(\"Data downloaded successfully!\")\n",
    "else:\n",
    "    print(\"Failed to download data.\")\n"
   ]
  },
  {
   "cell_type": "markdown",
   "metadata": {},
   "source": [
    "Build Vocab and tokenize"
   ]
  },
  {
   "cell_type": "code",
   "execution_count": 9,
   "metadata": {},
   "outputs": [
    {
     "name": "stdout",
     "output_type": "stream",
     "text": [
      "{'t': 0, 'e': 1, 'o': 2, 'u': 3, '.': 4, 'f': 5, 'p': 6, 'r': 7, '$': 8, 'l': 9, 'v': 10, '?': 11, 'd': 12, 'j': 13, 'z': 14, ' ': 15, 'a': 16, '\\n': 17, 'm': 18, ';': 19, 'y': 20, 'c': 21, '&': 22, ',': 23, 'h': 24, '!': 25, 'n': 26, '-': 27, ':': 28, 's': 29, 'g': 30, 'x': 31, \"'\": 32, 'b': 33, 'w': 34, 'i': 35, 'q': 36, '3': 37, 'k': 38}\n"
     ]
    }
   ],
   "source": [
    "vocab = set()\n",
    "for char in text_data:\n",
    "    vocab.add(char.lower())\n",
    "\n",
    "vocab_mapping = {char:i for i, char in enumerate(vocab)}\n",
    "print(vocab_mapping)"
   ]
  },
  {
   "cell_type": "markdown",
   "metadata": {},
   "source": [
    "TODO: dataprep\n",
    "define charrnn\n",
    "training model\n",
    "prediction utils\n",
    "test"
   ]
  }
 ],
 "metadata": {
  "kernelspec": {
   "display_name": "Python 3",
   "language": "python",
   "name": "python3"
  },
  "language_info": {
   "codemirror_mode": {
    "name": "ipython",
    "version": 3
   },
   "file_extension": ".py",
   "mimetype": "text/x-python",
   "name": "python",
   "nbconvert_exporter": "python",
   "pygments_lexer": "ipython3",
   "version": "3.12.5"
  }
 },
 "nbformat": 4,
 "nbformat_minor": 2
}
