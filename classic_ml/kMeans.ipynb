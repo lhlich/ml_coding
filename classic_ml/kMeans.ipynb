{
 "cells": [
  {
   "cell_type": "markdown",
   "metadata": {},
   "source": [
    "**k-Means example with Iris data**"
   ]
  },
  {
   "cell_type": "code",
   "execution_count": 2,
   "metadata": {},
   "outputs": [],
   "source": [
    "from sklearn.datasets import load_iris\n",
    "X, y = load_iris(return_X_y=True)\n",
    "\n",
    "n = len(X)\n",
    "d = len(X[0])"
   ]
  },
  {
   "cell_type": "markdown",
   "metadata": {},
   "source": [
    "**k-Means by sklearn**\n",
    "\n",
    "It's not quite stable, that's why sklearn provide args for smarter init and retry"
   ]
  },
  {
   "cell_type": "code",
   "execution_count": 8,
   "metadata": {},
   "outputs": [
    {
     "name": "stdout",
     "output_type": "stream",
     "text": [
      "accuracy: 0.8866666666666667\n",
      "train-eval elapsed 0.006981611251831055\n"
     ]
    }
   ],
   "source": [
    "from sklearn.cluster import KMeans\n",
    "import numpy as np\n",
    "from itertools import permutations\n",
    "import time\n",
    "\n",
    "start = time.time()\n",
    "kmeans = KMeans(n_clusters=3, init='random', n_init=1).fit(X)\n",
    "y_hat = kmeans.predict(X)\n",
    "\n",
    "def eval(y_hat):\n",
    "    y_hat_mapped = []\n",
    "\n",
    "    for mapping in permutations([0,1,2]):\n",
    "        map_y = lambda x: mapping[x]\n",
    "        y_hat_mapped.append(np.vectorize(map_y)(y_hat))\n",
    "\n",
    "    accuracies = [np.mean(y_pred == y) for y_pred in y_hat_mapped]\n",
    "    print(f'accuracy: {max(accuracies)}')\n",
    "\n",
    "eval(y_hat)\n",
    "print(f'train-eval elapsed {time.time()-start}')"
   ]
  },
  {
   "cell_type": "markdown",
   "metadata": {},
   "source": [
    "**k-Means from scratch**"
   ]
  },
  {
   "cell_type": "code",
   "execution_count": 9,
   "metadata": {},
   "outputs": [
    {
     "name": "stdout",
     "output_type": "stream",
     "text": [
      "Early stop at iteration 9\n",
      "accuracy: 0.8866666666666667\n",
      "train-eval elapsed 0.022937297821044922\n"
     ]
    }
   ],
   "source": [
    "\n",
    "i_centroids = np.random.randint(low=0, high=n, size=3)\n",
    "max_iter = 300\n",
    "\n",
    "start = time.time()\n",
    "centroids = X[i_centroids]\n",
    "def predict(X, centroids):\n",
    "    derive_dist = lambda x_row: [np.linalg.norm(x_row - centroid) for centroid in centroids]\n",
    "    all_distances = np.apply_along_axis(derive_dist, arr=X, axis=1)\n",
    "    return np.argmin(all_distances, axis=1)\n",
    "\n",
    "for i in range(1, max_iter+1):\n",
    "    # predict and assign\n",
    "    prediction = predict(X, centroids)\n",
    "    assignment =  [[] for _ in range(3)]\n",
    "    for row_num, pred_row in enumerate(prediction):\n",
    "        assignment[pred_row].append(row_num)\n",
    "\n",
    "    # adjust\n",
    "    new_centroids = np.array([np.mean(X[indicies], axis=0) for indicies in assignment])\n",
    "    if np.array_equal(new_centroids, centroids):\n",
    "        print(f'Early stop at iteration {i}')\n",
    "        break\n",
    "\n",
    "    centroids = new_centroids\n",
    "\n",
    "\n",
    "y_hat = predict(X, centroids)\n",
    "\n",
    "eval(y_hat)\n",
    "print(f'train-eval elapsed {time.time()-start}')"
   ]
  },
  {
   "cell_type": "markdown",
   "metadata": {},
   "source": [
    "Full Vectorization"
   ]
  },
  {
   "cell_type": "code",
   "execution_count": 24,
   "metadata": {},
   "outputs": [
    {
     "name": "stdout",
     "output_type": "stream",
     "text": [
      "Early stop at iteration 6\n",
      "accuracy: 0.8866666666666667\n",
      "train-eval elapsed 0.0019965171813964844\n"
     ]
    }
   ],
   "source": [
    "import time\n",
    "i_centroids = np.random.randint(low=0, high=n, size=3)\n",
    "max_iter = 300\n",
    "\n",
    "start = time.time()\n",
    "centroids = X[i_centroids]\n",
    "n, d = X.shape\n",
    "k = 3\n",
    "def predict(X, centroids):\n",
    "    sq_dist = np.sum((X.reshape(n, 1, d) - centroids.reshape(k, d)) ** 2, axis=2)\n",
    "    return np.argmin(sq_dist, axis=1)\n",
    "\n",
    "for i in range(1, max_iter+1):\n",
    "    # predict and assign\n",
    "    prediction = predict(X, centroids) # shape n, k\n",
    "    # adjust\n",
    "    new_centroids = np.array([np.mean(X[prediction==clz], axis=0) for clz in range(k)])\n",
    "    if np.array_equal(new_centroids, centroids):\n",
    "        print(f'Early stop at iteration {i}')\n",
    "        break\n",
    "\n",
    "    centroids = new_centroids\n",
    "\n",
    "\n",
    "y_hat = predict(X, centroids)\n",
    "eval(y_hat)\n",
    "print(f'train-eval elapsed {time.time()-start}')\n"
   ]
  }
 ],
 "metadata": {
  "kernelspec": {
   "display_name": "Python 3",
   "language": "python",
   "name": "python3"
  },
  "language_info": {
   "codemirror_mode": {
    "name": "ipython",
    "version": 3
   },
   "file_extension": ".py",
   "mimetype": "text/x-python",
   "name": "python",
   "nbconvert_exporter": "python",
   "pygments_lexer": "ipython3",
   "version": "3.12.5"
  }
 },
 "nbformat": 4,
 "nbformat_minor": 2
}
