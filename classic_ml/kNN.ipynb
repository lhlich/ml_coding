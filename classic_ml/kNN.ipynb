{
 "cells": [
  {
   "cell_type": "markdown",
   "metadata": {},
   "source": [
    "**kNN**\n",
    "\n",
    "Use sklearn Iris dataset to test knn feature.\n",
    "n = 150, d = 4, num_classes = 3"
   ]
  },
  {
   "cell_type": "code",
   "execution_count": 37,
   "metadata": {},
   "outputs": [],
   "source": [
    "from sklearn.datasets import load_iris\n",
    "X, y = load_iris(return_X_y=True)\n",
    "from sklearn.model_selection import train_test_split\n",
    "\n",
    "n = len(X)\n",
    "d = len(X[0])\n",
    "\n",
    "X_train, X_test, y_train, y_test = train_test_split(X, y, test_size=0.5, random_state=42)\n"
   ]
  },
  {
   "cell_type": "markdown",
   "metadata": {},
   "source": [
    "**kNN with sklearn**"
   ]
  },
  {
   "cell_type": "code",
   "execution_count": 48,
   "metadata": {},
   "outputs": [
    {
     "name": "stdout",
     "output_type": "stream",
     "text": [
      "accuracy: 0.9733333333333334, CE: 0.07254593922935398\n"
     ]
    }
   ],
   "source": [
    "from sklearn.neighbors import KNeighborsClassifier\n",
    "import numpy as np\n",
    "from sklearn.metrics import accuracy_score, log_loss\n",
    "\n",
    "\n",
    "def kNN_sklearn(k):\n",
    "    knn_mdl = KNeighborsClassifier(n_neighbors=k)\n",
    "    knn_mdl.fit(X_train, y_train)\n",
    "\n",
    "    y_hat = knn_mdl.predict(X_test)\n",
    "    y_prob = knn_mdl.predict_proba(X_test)\n",
    "    accuracy = accuracy_score(y_test, y_hat)\n",
    "    ce = log_loss(y_true=y_test, y_pred=y_prob)\n",
    "    print(f\"accuracy: {accuracy}, CE: {ce}\")\n",
    "\n",
    "\n",
    "kNN_sklearn(k=3)"
   ]
  },
  {
   "cell_type": "markdown",
   "metadata": {},
   "source": [
    "**My kNN**"
   ]
  },
  {
   "cell_type": "code",
   "execution_count": 50,
   "metadata": {},
   "outputs": [
    {
     "name": "stdout",
     "output_type": "stream",
     "text": [
      "accuracy: 0.9733333333333334, CE: 0.07254593922935398\n"
     ]
    }
   ],
   "source": [
    "from heapq import heappush, heapreplace\n",
    "\n",
    "def my_kNN(k):\n",
    "\n",
    "    def my_kNN_pred_prob(input_feats): # shape (1, d)\n",
    "        temp = []\n",
    "        for i, train_feats in enumerate(X_train):\n",
    "            dist = np.linalg.norm(train_feats-input_feats)\n",
    "            if len(temp) < k:\n",
    "                heappush(temp, (-dist, y_train[i]))\n",
    "            else:\n",
    "                if dist < -temp[0][0]:\n",
    "                    heapreplace(temp, (-dist, y_train[i]))\n",
    "\n",
    "        class_count = {}\n",
    "        for _, label in temp:\n",
    "            class_count[label] = 1 if label not in class_count else class_count[label] + 1\n",
    "        \n",
    "        return [class_count[label]/k if label in class_count else 0 for label in [0, 1, 2]]\n",
    "    \n",
    "    def my_kNN_pred(input_feats):\n",
    "        prob_list = my_kNN_pred_prob(input_feats)\n",
    "        max_prob = 0\n",
    "        ret = None\n",
    "        for i, prob in enumerate(prob_list):\n",
    "            if prob >= max_prob:\n",
    "                max_prob = prob\n",
    "                ret = i\n",
    "        return ret\n",
    "\n",
    "\n",
    "\n",
    "    y_hat = np.apply_along_axis(my_kNN_pred, arr=X_test, axis=1)\n",
    "    y_prob = np.apply_along_axis(my_kNN_pred_prob, arr=X_test, axis=1)\n",
    "    ce = log_loss(y_true=y_test, y_pred=y_prob)\n",
    "    accuracy = accuracy_score(y_test, y_hat)\n",
    "    print(f\"accuracy: {accuracy}, CE: {ce}\")\n",
    "        \n",
    "\n",
    "my_kNN(3)"
   ]
  }
 ],
 "metadata": {
  "kernelspec": {
   "display_name": "Python 3",
   "language": "python",
   "name": "python3"
  },
  "language_info": {
   "codemirror_mode": {
    "name": "ipython",
    "version": 3
   },
   "file_extension": ".py",
   "mimetype": "text/x-python",
   "name": "python",
   "nbconvert_exporter": "python",
   "pygments_lexer": "ipython3",
   "version": "3.12.5"
  }
 },
 "nbformat": 4,
 "nbformat_minor": 2
}
