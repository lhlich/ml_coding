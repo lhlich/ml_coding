{
 "cells": [
  {
   "cell_type": "markdown",
   "metadata": {},
   "source": [
    "#### PCA(principle component analysis)\n",
    "\n",
    "1. Center the data\n",
    "2. Compute the covariance matrix\n",
    "3. find eigenvectors and eigenvalues\n",
    "4. pick top $k$ eigenvectors with largest eigenvalues as principle components, concate as $W$\n",
    "5. $X_{reduced} = XW$, $X_{reconstructred} = X_{reduced}W^T$"
   ]
  },
  {
   "cell_type": "code",
   "execution_count": 52,
   "metadata": {},
   "outputs": [
    {
     "name": "stdout",
     "output_type": "stream",
     "text": [
      "=== use eig directly ===\n",
      "6 features, num of principle component 1, reconstruction loss is 0.03093121319620416\n",
      "6 features, num of principle component 2, reconstruction loss is 0.013729679427611753\n",
      "6 features, num of principle component 3, reconstruction loss is 0.005144742860109318\n",
      "6 features, num of principle component 4, reconstruction loss is 0.0016541736130181596\n",
      "6 features, num of principle component 5, reconstruction loss is 4.1538457040543904e-32\n",
      "=== use svd directly ===\n",
      "6 features, num of principle component 1, reconstruction loss is 0.030931213196204167\n",
      "6 features, num of principle component 2, reconstruction loss is 0.013729679427611757\n",
      "6 features, num of principle component 3, reconstruction loss is 0.00514474286010932\n",
      "6 features, num of principle component 4, reconstruction loss is 0.0016541736130181598\n",
      "6 features, num of principle component 5, reconstruction loss is 1.3496917050265749e-32\n",
      "=== use sklearn ===\n",
      "6 features, num of principle component 1, reconstruction loss is 0.030931213196204163\n",
      "6 features, num of principle component 2, reconstruction loss is 0.013729679427611757\n",
      "6 features, num of principle component 3, reconstruction loss is 0.005144742860109318\n",
      "6 features, num of principle component 4, reconstruction loss is 0.0016541736130181587\n",
      "6 features, num of principle component 5, reconstruction loss is 1.984478214696608e-32\n"
     ]
    }
   ],
   "source": [
    "import numpy as np\n",
    "from sklearn.decomposition import PCA as PCA_sklearn\n",
    "\n",
    "class PCA():\n",
    "    def __init__(self, X):\n",
    "        self.X = X\n",
    "    \n",
    "    def fit(self, k, use_svd=False):\n",
    "        mean = np.mean(self.X, axis=0).reshape(1, -1) # (1, n)\n",
    "        X_n = self.X - mean\n",
    "        m, n = X_n.shape\n",
    "\n",
    "        if use_svd:\n",
    "            _U, _S, Vh = np.linalg.svd(X_n)\n",
    "            p_comp = Vh[:k].T\n",
    "        else:\n",
    "            cov = X_n.T @ X_n / m\n",
    "            eig, eig_val = np.linalg.eig(cov)\n",
    "            idx = np.argsort(eig)\n",
    "            p_comp = eig_val[:, idx[n-k:]]\n",
    "\n",
    "        self.p_comp = p_comp\n",
    "        self.mean = mean\n",
    "\n",
    "    def transform(self):\n",
    "        return (self.X - self.mean) @ self.p_comp\n",
    "    \n",
    "    def reconstruct(self, X_r):\n",
    "        return X_r @ self.p_comp.T + self.mean\n",
    "\n",
    "X = np.random.rand(10, 5)\n",
    "def test(X, use_svd=False, use_sklearn=False):\n",
    "    m, n = X.shape\n",
    "    pca = PCA(X)\n",
    "    for k in range(1, n+1):\n",
    "        if use_sklearn:\n",
    "            model = PCA_sklearn(n_components=k)\n",
    "            model.fit(X)\n",
    "            print(f'{n+1} features, num of principle component {k}, reconstruction loss is {np.mean((model.inverse_transform(model.transform(X)) - X) ** 2)}')  \n",
    "        else:\n",
    "            pca.fit(k, use_svd=use_svd)\n",
    "            print(f'{n+1} features, num of principle component {k}, reconstruction loss is {np.mean((pca.reconstruct(pca.transform()) - X) ** 2)}')        \n",
    "\n",
    "print('=== use eig directly ===')\n",
    "test(X)\n",
    "print('=== use svd directly ===')\n",
    "test(X, use_svd=True)\n",
    "print('=== use sklearn ===')\n",
    "test(X, use_sklearn=True)"
   ]
  },
  {
   "cell_type": "code",
   "execution_count": 53,
   "metadata": {},
   "outputs": [
    {
     "name": "stdout",
     "output_type": "stream",
     "text": [
      "=== use eig directly ===\n",
      "8 features, num of principle component 1, reconstruction loss is 0.03112122645380983\n",
      "8 features, num of principle component 2, reconstruction loss is 0.012789083247539463\n",
      "8 features, num of principle component 3, reconstruction loss is 0.0055920844267706\n",
      "8 features, num of principle component 4, reconstruction loss is 0.0023699720579908475\n",
      "8 features, num of principle component 5, reconstruction loss is 1.8415822576704562e-09\n",
      "8 features, num of principle component 6, reconstruction loss is 2.505551051336663e-10\n",
      "8 features, num of principle component 7, reconstruction loss is 2.937570959413473e-28\n",
      "=== use svd directly ===\n",
      "8 features, num of principle component 1, reconstruction loss is 0.03112122645380983\n",
      "8 features, num of principle component 2, reconstruction loss is 0.012789083247539459\n",
      "8 features, num of principle component 3, reconstruction loss is 0.0055920844267706\n",
      "8 features, num of principle component 4, reconstruction loss is 0.0023699720579908475\n",
      "8 features, num of principle component 5, reconstruction loss is 1.8415822576708012e-09\n",
      "8 features, num of principle component 6, reconstruction loss is 2.5055510513364785e-10\n",
      "8 features, num of principle component 7, reconstruction loss is 2.7258099202186344e-32\n",
      "=== use sklearn ===\n",
      "8 features, num of principle component 1, reconstruction loss is 0.03112122645380983\n",
      "8 features, num of principle component 2, reconstruction loss is 0.012789083247539459\n",
      "8 features, num of principle component 3, reconstruction loss is 0.0055920844267706\n",
      "8 features, num of principle component 4, reconstruction loss is 0.002369972057990848\n",
      "8 features, num of principle component 5, reconstruction loss is 1.8415822576701992e-09\n",
      "8 features, num of principle component 6, reconstruction loss is 2.505551051337151e-10\n",
      "8 features, num of principle component 7, reconstruction loss is 2.5651323362868996e-32\n"
     ]
    }
   ],
   "source": [
    "X = np.random.rand(10, 5)\n",
    "\n",
    "X = np.hstack([X, X[:,0:2] + np.random.rand(10, 2)*0.001])\n",
    "pca = PCA(X)\n",
    "print('=== use eig directly ===')\n",
    "test(X)\n",
    "print('=== use svd directly ===')\n",
    "test(X, use_svd=True)\n",
    "print('=== use sklearn ===')\n",
    "test(X, use_sklearn=True)"
   ]
  }
 ],
 "metadata": {
  "kernelspec": {
   "display_name": "myenv",
   "language": "python",
   "name": "python3"
  },
  "language_info": {
   "codemirror_mode": {
    "name": "ipython",
    "version": 3
   },
   "file_extension": ".py",
   "mimetype": "text/x-python",
   "name": "python",
   "nbconvert_exporter": "python",
   "pygments_lexer": "ipython3",
   "version": "3.12.5"
  }
 },
 "nbformat": 4,
 "nbformat_minor": 2
}
