{
 "cells": [
  {
   "cell_type": "markdown",
   "metadata": {},
   "source": [
    "**Collborative filtering**"
   ]
  },
  {
   "cell_type": "code",
   "execution_count": 66,
   "metadata": {},
   "outputs": [],
   "source": [
    "import torch as torch\n",
    "\n",
    "class CF_model:\n",
    "    def __init__(self, data: torch.Tensor, d: int=5) -> None:\n",
    "        self.m = data.shape[0]\n",
    "        self.n = data.shape[1]\n",
    "        self.d = d\n",
    "        self.U = torch.rand(self.m, d, requires_grad=True) #m users\n",
    "        self.V = torch.rand(self.n, d, requires_grad=True) #n items\n",
    "\n",
    "    def fit(self, data: torch.Tensor) -> None:\n",
    "        max_iter = 100\n",
    "        lr = 0.01\n",
    "\n",
    "        for i in range(1, max_iter+1):\n",
    "\n",
    "            if self.U.grad is not None:\n",
    "                self.U.grad.zero_()\n",
    "            if self.V.grad is not None:\n",
    "                self.V.grad.zero_()\n",
    "\n",
    "            mask = (data != -1).float() # missing data labeled as -1\n",
    "            reconstructed = torch.matmul(self.U, self.V.t())\n",
    "            loss = torch.sum(((reconstructed - data) * mask) ** 2) / torch.sum(mask)\n",
    "            loss.backward()\n",
    "\n",
    "            with torch.no_grad():\n",
    "                self.U -= lr * self.U.grad\n",
    "                self.V -= lr * self.V.grad\n",
    "        \n",
    "        self.loss = loss\n",
    "\n",
    "    def pred(self, uid: int) -> int:\n",
    "        return torch.argmax(self.U[uid] @ self.V.t()).squeeze().item()"
   ]
  },
  {
   "cell_type": "code",
   "execution_count": 68,
   "metadata": {},
   "outputs": [
    {
     "name": "stdout",
     "output_type": "stream",
     "text": [
      "rec for user 2 is item 2\n",
      "--- training loss ---\n",
      "tensor(0.0616, grad_fn=<DivBackward0>)\n",
      "--- user <> item matrix ---\n",
      "tensor([[4.6235, 3.0870, 5.0463],\n",
      "        [4.3788, 2.5397, 4.7810],\n",
      "        [2.5653, 2.0961, 2.8916]], grad_fn=<MmBackward0>)\n"
     ]
    }
   ],
   "source": [
    "# Example usage\n",
    "data = torch.tensor([[5, 3, -1], [4, -1, 5], [-1, 2, 3]], dtype=torch.float32)\n",
    "model = CF_model(data)\n",
    "model.fit(data)\n",
    "\n",
    "uid = 2\n",
    "print(f\"rec for user {uid} is item {model.pred(uid)}\")  # Predict the highest-rated item for user 0\n",
    "\n",
    "\n",
    "print('--- training loss ---')\n",
    "print(model.loss)\n",
    "\n",
    "matrix = model.U @ model.V.T\n",
    "print('--- user <> item matrix ---')\n",
    "print(matrix)"
   ]
  }
 ],
 "metadata": {
  "kernelspec": {
   "display_name": "Python 3",
   "language": "python",
   "name": "python3"
  },
  "language_info": {
   "codemirror_mode": {
    "name": "ipython",
    "version": 3
   },
   "file_extension": ".py",
   "mimetype": "text/x-python",
   "name": "python",
   "nbconvert_exporter": "python",
   "pygments_lexer": "ipython3",
   "version": "3.12.5"
  }
 },
 "nbformat": 4,
 "nbformat_minor": 2
}
