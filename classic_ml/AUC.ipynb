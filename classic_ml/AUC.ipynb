{
 "cells": [
  {
   "cell_type": "markdown",
   "metadata": {},
   "source": [
    "#### AUC and confusion matrix\n",
    "\n",
    "The math: straightforward and ignored"
   ]
  },
  {
   "cell_type": "code",
   "execution_count": 65,
   "metadata": {},
   "outputs": [
    {
     "name": "stderr",
     "output_type": "stream",
     "text": [
      "C:\\Users\\beati\\AppData\\Local\\Temp\\ipykernel_47216\\1088467669.py:16: RuntimeWarning: invalid value encountered in divide\n",
      "  precision = tp / (tp + fp)\n",
      "C:\\Users\\beati\\AppData\\Local\\Temp\\ipykernel_47216\\1088467669.py:19: RuntimeWarning: invalid value encountered in divide\n",
      "  f1 = 2* precision * recall / (recall + precision)\n"
     ]
    }
   ],
   "source": [
    "import numpy as np \n",
    "\n",
    "def conf_matrix(y_pred, y_true, granularity = 0.01):  #shape(n, 1)\n",
    "    y_pred = y_pred.reshape(-1, 1)\n",
    "    y_true = y_true.reshape(-1, 1).astype(bool)\n",
    "    threshold = np.arange(0, 1.001, step=granularity).reshape(1, -1) \n",
    "    picked = y_pred <= threshold\n",
    "    tp = np.sum(picked & y_true, axis=0)\n",
    "    fp = np.sum(picked, axis=0) - tp\n",
    "    tn = np.sum(~picked & ~y_true, axis=0)\n",
    "    fn = np.sum(~picked & y_true, axis=0)\n",
    "    return threshold, tp, fp, tn, fn, picked\n",
    "\n",
    "t, tp, fp, tn, fn, _ = conf_matrix(np.array([0.3, 0.2, 0.8]), np.array([1,0,1]))\n",
    "\n",
    "precision = tp / (tp + fp)\n",
    "recall = tp / (tp + fn)\n",
    "fpr = fp / (fp + tn)\n",
    "f1 = 2* precision * recall / (recall + precision)\n",
    "\n",
    "def get_auc(tpr, fpr):\n",
    "    prev_fpr = 0\n",
    "    prev_tpr = 0\n",
    "    ret = 0\n",
    "    for fpr_p, tpr_p in zip(fpr, tpr):\n",
    "        d = fpr_p - prev_fpr\n",
    "        h = (tpr_p + prev_tpr) / 2\n",
    "        ret += d*h\n",
    "        prev_tpr, prev_fpr = tpr_p, fpr_p\n",
    "\n",
    "    return ret"
   ]
  },
  {
   "cell_type": "code",
   "execution_count": 76,
   "metadata": {},
   "outputs": [
    {
     "name": "stdout",
     "output_type": "stream",
     "text": [
      "my auc: 0.504349781900339\n",
      "sklearn auc: 0.4961924040871409\n"
     ]
    }
   ],
   "source": [
    "def my_auc(y_pred, y_true, epsilon = 0.001):\n",
    "    t, tp, fp, tn, fn, picked = conf_matrix(y_pred, y_true)\n",
    "    recall = tp / (tp + fn + epsilon)\n",
    "    fpr = fp / (fp + tn + epsilon)\n",
    "    return get_auc(recall, fpr)\n",
    "\n",
    "y_p = np.random.rand(500)\n",
    "y = np.random.randint(low=0, high=2, size=500)\n",
    "\n",
    "print(f'my auc: {my_auc(y_p, y)}')\n",
    "\n",
    "from sklearn import metrics\n",
    "def sklearn_auc(y_p, y):\n",
    "    fpr, tpr, _ = metrics.roc_curve(y, y_p)\n",
    "    return metrics.auc(fpr, tpr)\n",
    "print(f'sklearn auc: {sklearn_auc(y_p, y)}')"
   ]
  }
 ],
 "metadata": {
  "kernelspec": {
   "display_name": "myenv",
   "language": "python",
   "name": "python3"
  },
  "language_info": {
   "codemirror_mode": {
    "name": "ipython",
    "version": 3
   },
   "file_extension": ".py",
   "mimetype": "text/x-python",
   "name": "python",
   "nbconvert_exporter": "python",
   "pygments_lexer": "ipython3",
   "version": "3.12.5"
  }
 },
 "nbformat": 4,
 "nbformat_minor": 2
}
