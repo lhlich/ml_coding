{
 "cells": [
  {
   "cell_type": "markdown",
   "metadata": {},
   "source": [
    "**Cross validation**\n",
    "\n",
    "Steps:\n",
    "- split\n",
    "  - k fold\n",
    "  - leave one out\n",
    "  - leave k out\n",
    "- eval\n",
    "- aggragate\n",
    "\n",
    "Dependency:\n",
    "- Model class\n",
    "  - fit\n",
    "  - predict\n",
    "- Metrics class (can be part of model class)\n",
    "  - eval\n"
   ]
  },
  {
   "cell_type": "code",
   "execution_count": 4,
   "metadata": {},
   "outputs": [
    {
     "name": "stdout",
     "output_type": "stream",
     "text": [
      "Requirement already satisfied: scikit-learn in c:\\users\\beati\\onedrive\\documents\\github_repos\\ml_coding\\myenv\\lib\\site-packages (1.5.2)\n",
      "Requirement already satisfied: numpy>=1.19.5 in c:\\users\\beati\\onedrive\\documents\\github_repos\\ml_coding\\myenv\\lib\\site-packages (from scikit-learn) (1.26.3)\n",
      "Requirement already satisfied: scipy>=1.6.0 in c:\\users\\beati\\onedrive\\documents\\github_repos\\ml_coding\\myenv\\lib\\site-packages (from scikit-learn) (1.14.1)\n",
      "Requirement already satisfied: joblib>=1.2.0 in c:\\users\\beati\\onedrive\\documents\\github_repos\\ml_coding\\myenv\\lib\\site-packages (from scikit-learn) (1.4.2)\n",
      "Requirement already satisfied: threadpoolctl>=3.1.0 in c:\\users\\beati\\onedrive\\documents\\github_repos\\ml_coding\\myenv\\lib\\site-packages (from scikit-learn) (3.5.0)\n",
      "Note: you may need to restart the kernel to use updated packages.\n"
     ]
    }
   ],
   "source": [
    "%pip install scikit-learn"
   ]
  },
  {
   "cell_type": "code",
   "execution_count": 43,
   "metadata": {},
   "outputs": [
    {
     "name": "stdout",
     "output_type": "stream",
     "text": [
      "======\n",
      "Cross validation run: my CV\n",
      "Cross validation score mean 54.868924811339184, std 1.4108715713851354\n",
      "Cross validation scores [52.77838976271778, 54.72325609766083, 57.1663145725575, 55.21340861259678, 54.46325501116304]\n",
      "======\n"
     ]
    }
   ],
   "source": [
    "import sklearn.datasets as toy_data\n",
    "import numpy as np\n",
    "\n",
    "X, y = toy_data.load_diabetes(return_X_y=True)\n",
    "y = y.reshape(-1, 1)\n",
    "\n",
    "class kFoldCv:\n",
    "    def __init__(self, k, X, y):\n",
    "        self.k = k\n",
    "        self.X = X\n",
    "        self.y = y\n",
    "        self.splits = []\n",
    "\n",
    "        if X is not None:\n",
    "            self.split()\n",
    "        \n",
    "    def split(self):\n",
    "        n = len(self.X)\n",
    "        fold_len = n // self.k\n",
    "        \n",
    "        for i in range(self.k):\n",
    "            eval_idx = list(range(fold_len * i, fold_len * (i+1)))\n",
    "            train_idx = [j for j in range(n) if j not in eval_idx]\n",
    "            self.splits.append((train_idx, eval_idx))\n",
    "\n",
    "    def __len__(self):\n",
    "        return self.k\n",
    "\n",
    "    def __getitem__(self, idx):\n",
    "        train_idx, eval_idx = self.splits[idx]\n",
    "\n",
    "        return self.X[train_idx], self.y[train_idx], self.X[eval_idx], self.y[eval_idx]\n",
    "\n",
    "    def __call__(self, X, y):\n",
    "        self.X = X\n",
    "        self.y = y\n",
    "\n",
    "        self.split()\n",
    "\n",
    "KFCV = kFoldCv(5, X, y)\n",
    "\n",
    "class LinReg:\n",
    "    def __init__(self, bias=True):\n",
    "        self.bias = bias\n",
    "\n",
    "    def fit(self, X, y):\n",
    "        if self.bias:\n",
    "            ones = np.ones_like(y)\n",
    "            X_u = np.concatenate([X, ones], axis=1)\n",
    "\n",
    "        self.weights = np.linalg.inv(X_u.T @ X_u) @ (X_u.T) @ (y)\n",
    "\n",
    "    def predict(self, X):\n",
    "        if self.bias:\n",
    "            ones = np.ones(shape=(len(X), 1))\n",
    "            return np.concatenate([X, ones], axis=1) @ self.weights\n",
    "        else:\n",
    "            return X @ self.weights\n",
    "\n",
    "model = LinReg()\n",
    "\n",
    "class RMSE:\n",
    "    def __init__(self):\n",
    "        pass\n",
    "\n",
    "    def __call__(self, y_pred, y_true):\n",
    "        return np.sqrt(np.mean((y_pred - y_true) ** 2))\n",
    "    \n",
    "score = RMSE()\n",
    "\n",
    "\n",
    "def run_cross_validation(cv_iter, model, score, name):\n",
    "    scores = []\n",
    "    for i, data in enumerate(cv_iter):\n",
    "        X_t, y_t, X_e, y_e = data\n",
    "\n",
    "        mdl = model.fit(X_t, y_t)\n",
    "        pred = model.predict(X_e)\n",
    "\n",
    "        scores.append(score(pred, y_e))\n",
    "\n",
    "    print('======')\n",
    "    if name is not None:\n",
    "        print(f'Cross validation run: {name}')\n",
    "\n",
    "    print(f'Cross validation score mean {np.mean(scores)}, std {np.std(scores)}')\n",
    "    print(f'Cross validation scores {scores}')\n",
    "    print('======')\n",
    "\n",
    "run_cross_validation(KFCV, model, score, 'my CV')\n"
   ]
  },
  {
   "cell_type": "code",
   "execution_count": 44,
   "metadata": {},
   "outputs": [
    {
     "name": "stdout",
     "output_type": "stream",
     "text": [
      "======\n",
      "Cross validation run: my CV over sklearn linear reg\n",
      "Cross validation score mean 54.86892481133924, std 1.4108715713851592\n",
      "Cross validation scores [52.778389762717744, 54.72325609766089, 57.1663145725575, 55.21340861259704, 54.463255011163014]\n",
      "======\n"
     ]
    }
   ],
   "source": [
    "from sklearn.linear_model import LinearRegression\n",
    "\n",
    "model_sklearn = LinearRegression()\n",
    "run_cross_validation(KFCV, model_sklearn, score, 'my CV over sklearn linear reg')\n"
   ]
  }
 ],
 "metadata": {
  "kernelspec": {
   "display_name": "myenv",
   "language": "python",
   "name": "python3"
  },
  "language_info": {
   "codemirror_mode": {
    "name": "ipython",
    "version": 3
   },
   "file_extension": ".py",
   "mimetype": "text/x-python",
   "name": "python",
   "nbconvert_exporter": "python",
   "pygments_lexer": "ipython3",
   "version": "3.12.5"
  }
 },
 "nbformat": 4,
 "nbformat_minor": 2
}
