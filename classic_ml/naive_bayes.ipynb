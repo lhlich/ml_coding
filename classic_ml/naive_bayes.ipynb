{
 "cells": [
  {
   "cell_type": "markdown",
   "metadata": {},
   "source": [
    "**Naive Bayes**\n",
    "\n",
    "Firstly show an example from sklearn"
   ]
  },
  {
   "cell_type": "code",
   "execution_count": 1,
   "metadata": {},
   "outputs": [
    {
     "name": "stdout",
     "output_type": "stream",
     "text": [
      "Number of mislabeled points out of a total 75 points : 4\n"
     ]
    }
   ],
   "source": [
    "from sklearn.datasets import load_iris\n",
    "from sklearn.model_selection import train_test_split\n",
    "from sklearn.naive_bayes import GaussianNB\n",
    "\n",
    "X, y = load_iris(return_X_y=True)\n",
    "X_train, X_test, y_train, y_test = train_test_split(X, y, test_size=0.5, random_state=0)\n",
    "gnb = GaussianNB()\n",
    "y_pred = gnb.fit(X_train, y_train).predict(X_test)\n",
    "print(\"Number of mislabeled points out of a total %d points : %d\"\n",
    "      % (X_test.shape[0], (y_test != y_pred).sum()))"
   ]
  },
  {
   "cell_type": "code",
   "execution_count": 16,
   "metadata": {},
   "outputs": [
    {
     "name": "stdout",
     "output_type": "stream",
     "text": [
      "Number of mislabeled points out of a total 75 points : 4\n"
     ]
    }
   ],
   "source": [
    "import numpy as np\n",
    "\n",
    "class MyNB:\n",
    "    def __init__(self):\n",
    "        pass\n",
    "\n",
    "    def fit(self, X, y):\n",
    "        self.classes = np.unique(y)\n",
    "        self.mu = {}\n",
    "        self.sigma = {}\n",
    "        self.py = {}\n",
    "\n",
    "        for y_class in self.classes:\n",
    "            mask = y == y_class\n",
    "            X_in_class = X[mask]\n",
    "            self.mu[y_class] = np.mean(X_in_class, axis=0)\n",
    "            self.sigma[y_class] = np.std(X_in_class, axis=0)\n",
    "            self.py[y_class] = len(X_in_class) / len(X)      \n",
    "\n",
    "    def predict(self, X):\n",
    "        posteriors = []\n",
    "        for y_class in self.classes:\n",
    "            sigma = self.sigma[y_class]\n",
    "            mu = self.mu[y_class]\n",
    "            p_x =  np.prod(np.exp((-(X-mu)**2)/(2*np.pow(sigma, 2)))/sigma, axis=1).reshape(-1,1)\n",
    "            posteriors.append(p_x * self.py[y_class])\n",
    "\n",
    "        MAP = np.argmax(np.hstack(posteriors), axis=1)\n",
    "        return self.classes[MAP]\n",
    "\n",
    "gnb = MyNB()\n",
    "gnb.fit(X_train, y_train)\n",
    "y_pred = gnb.predict(X_test)\n",
    "print(\"Number of mislabeled points out of a total %d points : %d\"\n",
    "      % (X_test.shape[0], (y_test != y_pred).sum()))\n"
   ]
  }
 ],
 "metadata": {
  "kernelspec": {
   "display_name": "Python 3",
   "language": "python",
   "name": "python3"
  },
  "language_info": {
   "codemirror_mode": {
    "name": "ipython",
    "version": 3
   },
   "file_extension": ".py",
   "mimetype": "text/x-python",
   "name": "python",
   "nbconvert_exporter": "python",
   "pygments_lexer": "ipython3",
   "version": "3.12.5"
  }
 },
 "nbformat": 4,
 "nbformat_minor": 2
}
