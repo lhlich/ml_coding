{
 "cells": [
  {
   "cell_type": "code",
   "execution_count": 3,
   "metadata": {},
   "outputs": [],
   "source": [
    "from typing import List\n",
    "\n",
    "class SimpleIterator:\n",
    "    def __init__(self, data):\n",
    "        self.data = data\n",
    "        self.idx = -1\n",
    "        self.n = len(data)\n",
    "\n",
    "    def __iter__(self):\n",
    "        return self\n",
    "\n",
    "    def __next__(self):\n",
    "        self.idx += 1\n",
    "        if self.idx >= self.n:\n",
    "            raise StopIteration\n",
    "        else:\n",
    "            return self.data[self.idx]\n",
    "\n",
    "class MyIterator:\n",
    "    def __init__(self, data):\n",
    "        self.data = data\n",
    "        self.ptr = [SimpleIterator(self.data)]\n",
    "\n",
    "    def __iter__(self):\n",
    "        return self\n",
    "    \n",
    "\n",
    "    def _next_impl(self):\n",
    "        if len(self.ptr) == 0:\n",
    "            raise StopIteration\n",
    "\n",
    "        try:\n",
    "            elem = next(self.ptr[-1])\n",
    "        except StopIteration:\n",
    "            self.ptr.pop()\n",
    "            return self._next_impl()\n",
    "        \n",
    "        if isinstance(elem, List):\n",
    "            self.ptr.append(SimpleIterator(elem))\n",
    "            return self._next_impl()\n",
    "        else:\n",
    "            return elem\n",
    "\n",
    "    def __next__(self):\n",
    "        return self._next_impl()\n",
    "\n",
    "    def get_state(self):\n",
    "        return self.ptr\n",
    "    \n",
    "    def set_state(self, ptr):\n",
    "        self.ptr = ptr"
   ]
  },
  {
   "cell_type": "code",
   "execution_count": 4,
   "metadata": {},
   "outputs": [
    {
     "name": "stdout",
     "output_type": "stream",
     "text": [
      " ======\n",
      "test input: [[], [], [[1, [2]]], 3]\n",
      "output: [1, 2, 3]\n",
      "expected output: [1, 2, 3]\n",
      "    \n",
      " ======\n",
      "test input: []\n",
      "output: []\n",
      "expected output: []\n",
      "    \n",
      " ======\n",
      "test input: [1, 2, 3]\n",
      "output: [1, 2, 3]\n",
      "expected output: [1, 2, 3]\n",
      "    \n"
     ]
    }
   ],
   "source": [
    "x = [[], [], [[1, [2]]], 3]\n",
    "def test_sync(x, out):\n",
    "    ret = [elem for elem in MyIterator(x)]\n",
    "    msg = f\"\"\" ======\n",
    "test input: {x}\n",
    "output: {ret}\n",
    "expected output: {out}\n",
    "    \"\"\"\n",
    "    print(msg)\n",
    "\n",
    "test_sync(x, [1, 2, 3])\n",
    "test_sync([], [])\n",
    "test_sync([1, 2, 3], [1, 2, 3])"
   ]
  },
  {
   "cell_type": "code",
   "execution_count": 72,
   "metadata": {},
   "outputs": [
    {
     "name": "stdout",
     "output_type": "stream",
     "text": [
      "first 3 values: [1, 2, 3]\n",
      "4th to last values: [4, 5]\n"
     ]
    }
   ],
   "source": [
    "x = [[], [], [[1, [2]]], 3, 4, [[[5]]]]\n",
    "k = 3\n",
    "\n",
    "\n",
    "def run(data_iter, limit=None):\n",
    "    ret = []\n",
    "    for i, elem in enumerate(data_iter):\n",
    "        ret.append(elem)\n",
    "        if limit is not None and i + 1 >= limit:\n",
    "            break\n",
    "    return ret\n",
    "\n",
    "data_iter = MyIterator(x)\n",
    "\n",
    "print(f'first {k} values: {run(data_iter, k)}')\n",
    "state = data_iter.get_state()\n",
    "new_iter = MyIterator(x)\n",
    "new_iter.set_state(state)\n",
    "print(f'{k+1}th to last values: {run(new_iter)}')"
   ]
  },
  {
   "cell_type": "code",
   "execution_count": null,
   "metadata": {},
   "outputs": [],
   "source": [
    "import asyncio\n",
    "import threading\n",
    "import random\n",
    "\n",
    "fetch_data_delay = 0.1\n",
    "\n",
    "class MyAsyncIterator:\n",
    "    def __init__(self, data):\n",
    "        self.data = data\n",
    "        self.ptr = [SimpleIterator(self.data)]\n",
    "\n",
    "    def __aiter__(self):\n",
    "        return self\n",
    "\n",
    "    async def _next_impl(self):\n",
    "        if len(self.ptr) == 0:\n",
    "            raise StopAsyncIteration\n",
    "\n",
    "        try:            \n",
    "            elem = next(self.ptr[-1])\n",
    "        except StopIteration:\n",
    "            self.ptr.pop()\n",
    "            return await self._next_impl()\n",
    "        \n",
    "        if isinstance(elem, List):\n",
    "            self.ptr.append(SimpleIterator(elem))\n",
    "            return await self._next_impl()\n",
    "        else:\n",
    "            await asyncio.sleep(fetch_data_delay)\n",
    "            return elem\n",
    "\n",
    "    async def __anext__(self):\n",
    "        return await self._next_impl()\n",
    "\n",
    "\n",
    "    def get_state(self):\n",
    "        return self.ptr\n",
    "    \n",
    "    def set_state(self, ptr):\n",
    "        self.ptr = ptr"
   ]
  },
  {
   "cell_type": "code",
   "execution_count": 63,
   "metadata": {},
   "outputs": [
    {
     "name": "stdout",
     "output_type": "stream",
     "text": [
      "element 1 processed!\n",
      "element 2 processed!\n",
      "element 3 processed!\n"
     ]
    },
    {
     "data": {
      "text/plain": [
       "[1, 2, 3]"
      ]
     },
     "execution_count": 63,
     "metadata": {},
     "output_type": "execute_result"
    }
   ],
   "source": [
    "x = [[], [], [[1, [2]]], 3]\n",
    "sleep_time = iter([1, 1, 1])\n",
    "\n",
    "\n",
    "async def process_element(elem, delay):\n",
    "    await asyncio.sleep(delay)\n",
    "    print(f'element {elem} processed!')\n",
    "    return elem\n",
    "\n",
    "async def run_async(data_iter, limit=None):\n",
    "    tasks = []\n",
    "    cnt = 0\n",
    "    async for elem in data_iter:\n",
    "        tasks.append(asyncio.create_task(process_element(elem, next(sleep_time, 0))))\n",
    "        cnt += 1\n",
    "        if limit is not None and cnt >= limit:\n",
    "            break\n",
    "        \n",
    "    return await asyncio.gather(*tasks)\n",
    "\n",
    "data_iter = MyAsyncIterator(x)\n",
    "await run_async(data_iter)"
   ]
  },
  {
   "cell_type": "code",
   "execution_count": 64,
   "metadata": {},
   "outputs": [
    {
     "name": "stdout",
     "output_type": "stream",
     "text": [
      "element 1 processed!\n",
      "element 2 processed!\n",
      "element 3 processed!\n",
      "first 3 values: [1, 2, 3]\n",
      "element 4 processed!\n",
      "element 5 processed!\n",
      "4th to last values: [4, 5]\n"
     ]
    }
   ],
   "source": [
    "x = [[], [], [[1, [2]]], 3, 4, [[[5]]]]\n",
    "k = 3\n",
    "\n",
    "data_iter = MyAsyncIterator(x)\n",
    "\n",
    "print(f'first {k} values: {await run_async(data_iter, k)}')\n",
    "state = data_iter.get_state()\n",
    "\n",
    "new_iter = MyAsyncIterator(x)\n",
    "new_iter.set_state(state)\n",
    "\n",
    "print(f'{k+1}th to last values: {await run_async(new_iter)}')"
   ]
  },
  {
   "cell_type": "code",
   "execution_count": 73,
   "metadata": {},
   "outputs": [],
   "source": [
    "import threading\n",
    "import random\n",
    "import time\n",
    "\n",
    "class MyTsIterator:\n",
    "    def __init__(self, data, fetch_data_delay=0.1):\n",
    "        self.data = data\n",
    "        self.ptr = [SimpleIterator(self.data)]\n",
    "        self.lock = threading.Lock()\n",
    "        self.fetch_data_delay = fetch_data_delay\n",
    "\n",
    "    def __iter__(self):\n",
    "        return self\n",
    "\n",
    "    def _next_impl(self):\n",
    "        if len(self.ptr) == 0:\n",
    "            raise StopIteration\n",
    "\n",
    "        try:            \n",
    "            elem = next(self.ptr[-1])\n",
    "        except StopIteration:\n",
    "            self.ptr.pop()\n",
    "            return self._next_impl()\n",
    "        \n",
    "        if isinstance(elem, List):\n",
    "            self.ptr.append(SimpleIterator(elem))\n",
    "            return self._next_impl()\n",
    "        else:\n",
    "            time.sleep(self.fetch_data_delay)\n",
    "            return elem\n",
    "\n",
    "    def __next__(self):\n",
    "        with self.lock:\n",
    "            return self._next_impl()\n",
    "\n",
    "    def get_state(self):\n",
    "        return self.ptr\n",
    "    \n",
    "    def set_state(self, ptr):\n",
    "        self.ptr = ptr"
   ]
  },
  {
   "cell_type": "code",
   "execution_count": 102,
   "metadata": {},
   "outputs": [
    {
     "name": "stdout",
     "output_type": "stream",
     "text": [
      "element 1 processed!\n",
      "element 2 processed!\n",
      "element 3 processed!\n",
      "[1, 2, 3]\n"
     ]
    }
   ],
   "source": [
    "x = [[], [], [[1, [2]]], 3]\n",
    "sleep_time = iter([1, 1, 1])\n",
    "\n",
    "def get_and_process_data(data_iter, result_pool, limit=None):\n",
    "    elem = next(data_iter, None) \n",
    "    while elem is not None:\n",
    "        time.sleep(next(sleep_time, 0))\n",
    "        print(f'element {elem} processed!')\n",
    "        result_pool.append(elem)\n",
    "        if limit is not None and len(result_pool) >= limit:\n",
    "            break\n",
    "        elem = next(data_iter, None) \n",
    "\n",
    "data_iter = MyTsIterator(x)\n",
    "result_pool = []\n",
    "get_and_process_data(data_iter, result_pool)\n",
    "print(result_pool)"
   ]
  },
  {
   "cell_type": "code",
   "execution_count": 103,
   "metadata": {},
   "outputs": [
    {
     "name": "stdout",
     "output_type": "stream",
     "text": [
      "element 1 processed!\n",
      "element 2 processed!\n",
      "element 3 processed!\n",
      "[1, 2, 3]\n"
     ]
    }
   ],
   "source": [
    "x = [[], [], [[1, [2]]], 3]\n",
    "sleep_time = iter([1, 1, 1])\n",
    "data = MyTsIterator(x)\n",
    "\n",
    "def run_concurrent(data_iter, limit, num_threads):\n",
    "    tasks = []\n",
    "    result_pool = []\n",
    "    for _ in range(num_threads):\n",
    "        t = threading.Thread(target=get_and_process_data, args=[data_iter, result_pool, limit])\n",
    "        t.start()\n",
    "        tasks.append(t)\n",
    "\n",
    "    for t in tasks:\n",
    "        t.join()\n",
    "\n",
    "    return result_pool\n",
    "\n",
    "data_iter = MyTsIterator(x)\n",
    "print(run_concurrent(data_iter, None, 3))"
   ]
  },
  {
   "cell_type": "code",
   "execution_count": 96,
   "metadata": {},
   "outputs": [
    {
     "name": "stdout",
     "output_type": "stream",
     "text": [
      "element 1 processed!\n",
      "element 2 processed!\n",
      "element 3 processed!\n",
      "deque([1, 2, 3])\n"
     ]
    }
   ],
   "source": [
    "sleep_time = iter([1, 1, 1])\n",
    "data_iter = MyTsIterator(x)\n",
    "print(run_concurrent(data_iter, None, 2))"
   ]
  },
  {
   "cell_type": "code",
   "execution_count": 104,
   "metadata": {},
   "outputs": [
    {
     "name": "stdout",
     "output_type": "stream",
     "text": [
      "element 1 processed!\n",
      "element 2 processed!\n",
      "element 3 processed!\n",
      "element 4 processed!\n",
      "first 3 values: [1, 2, 3, 4]\n",
      "element 5 processed!\n",
      "4th to last values: [5]\n"
     ]
    }
   ],
   "source": [
    "x = [[], [], [[1, [2]]], 3, 4, [[[5]]]]\n",
    "k = 3\n",
    "\n",
    "data_iter = MyTsIterator(x)\n",
    "\n",
    "print(f'first {k} values: {run_concurrent(data_iter, k, 2)}')\n",
    "state = data_iter.get_state()\n",
    "\n",
    "new_iter = MyTsIterator(x)\n",
    "new_iter.set_state(state)\n",
    "\n",
    "print(f'{k+1}th to last values: {run_concurrent(new_iter, None, 2)}')"
   ]
  }
 ],
 "metadata": {
  "kernelspec": {
   "display_name": "myenv",
   "language": "python",
   "name": "python3"
  },
  "language_info": {
   "codemirror_mode": {
    "name": "ipython",
    "version": 3
   },
   "file_extension": ".py",
   "mimetype": "text/x-python",
   "name": "python",
   "nbconvert_exporter": "python",
   "pygments_lexer": "ipython3",
   "version": "3.12.5"
  }
 },
 "nbformat": 4,
 "nbformat_minor": 2
}
