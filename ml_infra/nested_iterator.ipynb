{
 "cells": [
  {
   "cell_type": "code",
   "execution_count": 3,
   "metadata": {},
   "outputs": [],
   "source": [
    "from typing import List\n",
    "\n",
    "class SimpleIterator:\n",
    "    def __init__(self, data):\n",
    "        self.data = data\n",
    "        self.idx = -1\n",
    "        self.n = len(data)\n",
    "\n",
    "    def __iter__(self):\n",
    "        return self\n",
    "\n",
    "    def __next__(self):\n",
    "        self.idx += 1\n",
    "        if self.idx >= self.n:\n",
    "            raise StopIteration\n",
    "        else:\n",
    "            return self.data[self.idx]\n",
    "\n",
    "class MyIterator:\n",
    "    def __init__(self, data):\n",
    "        self.data = data\n",
    "        self.ptr = [SimpleIterator(self.data)]\n",
    "\n",
    "    def __iter__(self):\n",
    "        return self\n",
    "    \n",
    "\n",
    "    def _next_impl(self):\n",
    "        if len(self.ptr) == 0:\n",
    "            raise StopIteration\n",
    "\n",
    "        try:\n",
    "            elem = next(self.ptr[-1])\n",
    "        except StopIteration:\n",
    "            self.ptr.pop()\n",
    "            return self._next_impl()\n",
    "        \n",
    "        if isinstance(elem, List):\n",
    "            self.ptr.append(SimpleIterator(elem))\n",
    "            return self._next_impl()\n",
    "        else:\n",
    "            return elem\n",
    "\n",
    "    def __next__(self):\n",
    "        return self._next_impl()\n",
    "\n",
    "    def get_state(self):\n",
    "        return self.ptr\n",
    "    \n",
    "    def set_state(self, ptr):\n",
    "        self.ptr = ptr"
   ]
  },
  {
   "cell_type": "code",
   "execution_count": 4,
   "metadata": {},
   "outputs": [
    {
     "name": "stdout",
     "output_type": "stream",
     "text": [
      " ======\n",
      "test input: [[], [], [[1, [2]]], 3]\n",
      "output: [1, 2, 3]\n",
      "expected output: [1, 2, 3]\n",
      "    \n",
      " ======\n",
      "test input: []\n",
      "output: []\n",
      "expected output: []\n",
      "    \n",
      " ======\n",
      "test input: [1, 2, 3]\n",
      "output: [1, 2, 3]\n",
      "expected output: [1, 2, 3]\n",
      "    \n"
     ]
    }
   ],
   "source": [
    "x = [[], [], [[1, [2]]], 3]\n",
    "def test_sync(x, out):\n",
    "    ret = [elem for elem in MyIterator(x)]\n",
    "    msg = f\"\"\" ======\n",
    "test input: {x}\n",
    "output: {ret}\n",
    "expected output: {out}\n",
    "    \"\"\"\n",
    "    print(msg)\n",
    "\n",
    "test_sync(x, [1, 2, 3])\n",
    "test_sync([], [])\n",
    "test_sync([1, 2, 3], [1, 2, 3])"
   ]
  },
  {
   "cell_type": "code",
   "execution_count": 29,
   "metadata": {},
   "outputs": [],
   "source": [
    "import asyncio\n",
    "import threading\n",
    "import random\n",
    "\n",
    "fetch_data_delay = 3.0\n",
    "\n",
    "class MyAsyncIterator:\n",
    "    def __init__(self, data):\n",
    "        self.data = data\n",
    "        self.ptr = [SimpleIterator(self.data)]\n",
    "\n",
    "    def __aiter__(self):\n",
    "        return self\n",
    "\n",
    "    async def _next_impl(self):\n",
    "        if len(self.ptr) == 0:\n",
    "            raise StopAsyncIteration\n",
    "\n",
    "        try:            \n",
    "            elem = next(self.ptr[-1])\n",
    "        except StopIteration:\n",
    "            self.ptr.pop()\n",
    "            return await self._next_impl()\n",
    "        \n",
    "        if isinstance(elem, List):\n",
    "            self.ptr.append(SimpleIterator(elem))\n",
    "            return await self._next_impl()\n",
    "        else:\n",
    "            await asyncio.sleep(fetch_data_delay)\n",
    "            return elem\n",
    "\n",
    "    async def __anext__(self):\n",
    "        return await self._next_impl()\n",
    "\n",
    "\n",
    "    def get_state(self):\n",
    "        return self.ptr\n",
    "    \n",
    "    def set_state(self, ptr):\n",
    "        self.ptr = ptr"
   ]
  },
  {
   "cell_type": "code",
   "execution_count": 37,
   "metadata": {},
   "outputs": [
    {
     "name": "stdout",
     "output_type": "stream",
     "text": [
      "element 1 processed!\n",
      "element 3 processed!\n",
      "element 2 processed!\n"
     ]
    }
   ],
   "source": [
    "x = [[], [], [[1, [2]]], 3]\n",
    "sleep_time = iter([2, 7, 2])\n",
    "\n",
    "\n",
    "async def process_element(elem, delay):\n",
    "    await asyncio.sleep(delay)\n",
    "    print(f'element {elem} processed!')\n",
    "\n",
    "async def run(x):\n",
    "    tasks = []\n",
    "    async for elem in MyAsyncIterator(x):\n",
    "        tasks.append(asyncio.create_task(process_element(elem, next(sleep_time, 0))))\n",
    "        \n",
    "    await asyncio.gather(*tasks)\n",
    "\n",
    "await run(x)"
   ]
  },
  {
   "cell_type": "code",
   "execution_count": 41,
   "metadata": {},
   "outputs": [],
   "source": [
    "import threading\n",
    "import random\n",
    "import time\n",
    "\n",
    "fetch_data_delay = 3.0\n",
    "\n",
    "class MyTsIterator:\n",
    "    def __init__(self, data):\n",
    "        self.data = data\n",
    "        self.ptr = [SimpleIterator(self.data)]\n",
    "        self.lock = threading.Lock()\n",
    "\n",
    "    def __iter__(self):\n",
    "        return self\n",
    "\n",
    "    def _next_impl(self):\n",
    "        if len(self.ptr) == 0:\n",
    "            raise StopIteration\n",
    "\n",
    "        try:            \n",
    "            elem = next(self.ptr[-1])\n",
    "        except StopIteration:\n",
    "            self.ptr.pop()\n",
    "            return self._next_impl()\n",
    "        \n",
    "        if isinstance(elem, List):\n",
    "            self.ptr.append(SimpleIterator(elem))\n",
    "            return self._next_impl()\n",
    "        else:\n",
    "            time.sleep(fetch_data_delay)\n",
    "            return elem\n",
    "\n",
    "    def __next__(self):\n",
    "        with self.lock:\n",
    "            return self._next_impl()\n",
    "\n",
    "    def get_state(self):\n",
    "        return self.ptr\n",
    "    \n",
    "    def set_state(self, ptr):\n",
    "        self.ptr = ptr"
   ]
  },
  {
   "cell_type": "code",
   "execution_count": 43,
   "metadata": {},
   "outputs": [
    {
     "name": "stdout",
     "output_type": "stream",
     "text": [
      "element 1 processed!\n",
      "element 2 processed!\n",
      "element 3 processed!\n"
     ]
    }
   ],
   "source": [
    "x = [[], [], [[1, [2]]], 3]\n",
    "sleep_time = iter([2, 7, 2])\n",
    "data = MyTsIterator(x)\n",
    "\n",
    "def get_and_process_data():\n",
    "    elem = next(data, None) \n",
    "    while elem is not None:\n",
    "        time.sleep(next(sleep_time, 0))\n",
    "        print(f'element {elem} processed!')\n",
    "        elem = next(data, None) \n",
    "\n",
    "get_and_process_data()"
   ]
  },
  {
   "cell_type": "code",
   "execution_count": 45,
   "metadata": {},
   "outputs": [
    {
     "name": "stdout",
     "output_type": "stream",
     "text": [
      "element 1 processed!\n",
      "element 3 processed!\n",
      "element 2 processed!\n"
     ]
    }
   ],
   "source": [
    "num_threads = 3\n",
    "\n",
    "x = [[], [], [[1, [2]]], 3]\n",
    "sleep_time = iter([2, 7, 2])\n",
    "data = MyTsIterator(x)\n",
    "\n",
    "tasks = []\n",
    "for _ in range(num_threads):\n",
    "    t = threading.Thread(target=get_and_process_data)\n",
    "    t.start()\n",
    "    tasks.append(t)\n",
    "\n",
    "for t in tasks:\n",
    "    t.join()\n"
   ]
  },
  {
   "cell_type": "code",
   "execution_count": 49,
   "metadata": {},
   "outputs": [
    {
     "name": "stdout",
     "output_type": "stream",
     "text": [
      "element 1 processed!\n",
      "element 3 processed!\n",
      "element 2 processed!\n"
     ]
    }
   ],
   "source": [
    "num_threads = 2\n",
    "\n",
    "x = [[], [], [[1, [2]]], 3]\n",
    "sleep_time = iter([2, 7, 2])\n",
    "data = MyTsIterator(x)\n",
    "\n",
    "tasks = []\n",
    "for _ in range(num_threads):\n",
    "    t = threading.Thread(target=get_and_process_data)\n",
    "    t.start()\n",
    "    tasks.append(t)\n",
    "\n",
    "for t in tasks:\n",
    "    t.join()"
   ]
  }
 ],
 "metadata": {
  "kernelspec": {
   "display_name": "myenv",
   "language": "python",
   "name": "python3"
  },
  "language_info": {
   "codemirror_mode": {
    "name": "ipython",
    "version": 3
   },
   "file_extension": ".py",
   "mimetype": "text/x-python",
   "name": "python",
   "nbconvert_exporter": "python",
   "pygments_lexer": "ipython3",
   "version": "3.12.5"
  }
 },
 "nbformat": 4,
 "nbformat_minor": 2
}
